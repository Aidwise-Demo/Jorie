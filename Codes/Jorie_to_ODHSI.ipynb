{
 "cells": [
  {
   "cell_type": "code",
   "execution_count": 1,
   "metadata": {},
   "outputs": [],
   "source": [
    "import pandas as pd"
   ]
  },
  {
   "cell_type": "code",
   "execution_count": 1,
   "metadata": {},
   "outputs": [],
   "source": [
    "def to_sql(table,df):\n",
    "    import pandas as pd\n",
    "    from sqlalchemy import create_engine\n",
    "\n",
    "\n",
    "    # MySQL connection parameters\n",
    "    mysql_user = \"root\"\n",
    "    mysql_password = \"Sharath45\"\n",
    "    mysql_host = \"127.0.0.1\"\n",
    "    mysql_port = 3306  # Default MySQL port\n",
    "    mysql_database = \"jorie_ohdsi\"\n",
    "\n",
    "    mysql_table = table\n",
    "\n",
    "    # Create a connection engine\n",
    "    engine = create_engine(f\"mysql+pymysql://{mysql_user}:{mysql_password}@{mysql_host}:{mysql_port}/{mysql_database}\")\n",
    "\n",
    "    # Updating the MySQL table\n",
    "    try:\n",
    "        # Append data to the existing table while matching column names\n",
    "        df.to_sql(name=mysql_table, con=engine, if_exists='replace', index=False)\n",
    "        print(\"Data updated successfully into the MySQL table.\")\n",
    "    except Exception as e:\n",
    "        print(f\"An error occurred: {e}\")\n"
   ]
  },
  {
   "cell_type": "code",
   "execution_count": null,
   "metadata": {},
   "outputs": [],
   "source": [
    "\n",
    "Patients=pd.read_excel(r\"PatientDemo.xlsx\")\n",
    "Encounters=pd.read_excel(r\"PatientEncounter.xlsx\")\n",
    "Lab_results=pd.read_excel(\"PatientLabResult.xlsx\")\n",
    "conditions=pd.read_excel(\"PatientDiagnosis.xlsx\")\n",
    "procedures=pd.read_excel(\"PatientProcedure.xlsx\")\n"
   ]
  },
  {
   "cell_type": "markdown",
   "metadata": {},
   "source": [
    "Creating Location Table"
   ]
  },
  {
   "cell_type": "code",
   "execution_count": 3,
   "metadata": {},
   "outputs": [],
   "source": [
    "# Rename columns as specified\n",
    "Location=Patients[['ZIP', 'Address', 'FIPS','MRN']]\n",
    "Location = Location.rename(columns={\n",
    "    'MRN': 'location_id',\n",
    "    'ZIP': 'zip',\n",
    "    'Address': 'address_1',\n",
    "    'FIPS': 'county'\n",
    "})\n",
    "\n",
    "\n",
    "Location['address_2'] = None  \n",
    "Location['city'] = None #Need to check weather we can extract from address\n",
    "Location['state'] = None   #Need to check weather we can extract from address\n",
    "Location['location_source_value'] = None \n",
    "\n",
    "# Keep all other columns in the DataFrame as well\n",
    "# (this step ensures that all existing columns are retained)\n",
    "Location = Location[['location_id', 'address_1', 'address_2', 'city', 'state', 'zip', 'county', 'location_source_value']]"
   ]
  },
  {
   "cell_type": "code",
   "execution_count": 9,
   "metadata": {},
   "outputs": [],
   "source": [
    "Location=Location.drop_duplicates()"
   ]
  },
  {
   "cell_type": "code",
   "execution_count": 10,
   "metadata": {},
   "outputs": [
    {
     "data": {
      "text/html": [
       "<div>\n",
       "<style scoped>\n",
       "    .dataframe tbody tr th:only-of-type {\n",
       "        vertical-align: middle;\n",
       "    }\n",
       "\n",
       "    .dataframe tbody tr th {\n",
       "        vertical-align: top;\n",
       "    }\n",
       "\n",
       "    .dataframe thead th {\n",
       "        text-align: right;\n",
       "    }\n",
       "</style>\n",
       "<table border=\"1\" class=\"dataframe\">\n",
       "  <thead>\n",
       "    <tr style=\"text-align: right;\">\n",
       "      <th></th>\n",
       "      <th>location_id</th>\n",
       "      <th>address_1</th>\n",
       "      <th>address_2</th>\n",
       "      <th>city</th>\n",
       "      <th>state</th>\n",
       "      <th>zip</th>\n",
       "      <th>county</th>\n",
       "      <th>location_source_value</th>\n",
       "    </tr>\n",
       "  </thead>\n",
       "  <tbody>\n",
       "    <tr>\n",
       "      <th>0</th>\n",
       "      <td>E223702</td>\n",
       "      <td>3083 N GEORGIA ST</td>\n",
       "      <td>None</td>\n",
       "      <td>None</td>\n",
       "      <td>None</td>\n",
       "      <td>46760</td>\n",
       "      <td>NaN</td>\n",
       "      <td>None</td>\n",
       "    </tr>\n",
       "    <tr>\n",
       "      <th>2</th>\n",
       "      <td>E371944</td>\n",
       "      <td>5858 N 600 E</td>\n",
       "      <td>None</td>\n",
       "      <td>None</td>\n",
       "      <td>None</td>\n",
       "      <td>46731</td>\n",
       "      <td>NaN</td>\n",
       "      <td>None</td>\n",
       "    </tr>\n",
       "    <tr>\n",
       "      <th>4</th>\n",
       "      <td>E435319</td>\n",
       "      <td>PO BOX 145</td>\n",
       "      <td>None</td>\n",
       "      <td>None</td>\n",
       "      <td>None</td>\n",
       "      <td>46974-0145</td>\n",
       "      <td>NaN</td>\n",
       "      <td>None</td>\n",
       "    </tr>\n",
       "    <tr>\n",
       "      <th>6</th>\n",
       "      <td>E475126</td>\n",
       "      <td>1543 TALLGRASS TRL</td>\n",
       "      <td>None</td>\n",
       "      <td>None</td>\n",
       "      <td>None</td>\n",
       "      <td>46804</td>\n",
       "      <td>NaN</td>\n",
       "      <td>None</td>\n",
       "    </tr>\n",
       "    <tr>\n",
       "      <th>8</th>\n",
       "      <td>E494826</td>\n",
       "      <td>6321 BENNINGTON DR</td>\n",
       "      <td>None</td>\n",
       "      <td>None</td>\n",
       "      <td>None</td>\n",
       "      <td>46815</td>\n",
       "      <td>NaN</td>\n",
       "      <td>None</td>\n",
       "    </tr>\n",
       "    <tr>\n",
       "      <th>...</th>\n",
       "      <td>...</td>\n",
       "      <td>...</td>\n",
       "      <td>...</td>\n",
       "      <td>...</td>\n",
       "      <td>...</td>\n",
       "      <td>...</td>\n",
       "      <td>...</td>\n",
       "      <td>...</td>\n",
       "    </tr>\n",
       "    <tr>\n",
       "      <th>2443</th>\n",
       "      <td>E994516</td>\n",
       "      <td>1861 GLENLAKE CT</td>\n",
       "      <td>None</td>\n",
       "      <td>None</td>\n",
       "      <td>None</td>\n",
       "      <td>60451</td>\n",
       "      <td>NaN</td>\n",
       "      <td>None</td>\n",
       "    </tr>\n",
       "    <tr>\n",
       "      <th>2444</th>\n",
       "      <td>E994965</td>\n",
       "      <td>142 NORTH DRIVE</td>\n",
       "      <td>None</td>\n",
       "      <td>None</td>\n",
       "      <td>None</td>\n",
       "      <td>46740</td>\n",
       "      <td>NaN</td>\n",
       "      <td>None</td>\n",
       "    </tr>\n",
       "    <tr>\n",
       "      <th>2445</th>\n",
       "      <td>E99509</td>\n",
       "      <td>525 N BROADWAY ST</td>\n",
       "      <td>None</td>\n",
       "      <td>None</td>\n",
       "      <td>None</td>\n",
       "      <td>46721</td>\n",
       "      <td>NaN</td>\n",
       "      <td>None</td>\n",
       "    </tr>\n",
       "    <tr>\n",
       "      <th>2446</th>\n",
       "      <td>E99554</td>\n",
       "      <td>3425 NEW HAVEN AVE</td>\n",
       "      <td>None</td>\n",
       "      <td>None</td>\n",
       "      <td>None</td>\n",
       "      <td>46803</td>\n",
       "      <td>NaN</td>\n",
       "      <td>None</td>\n",
       "    </tr>\n",
       "    <tr>\n",
       "      <th>2447</th>\n",
       "      <td>E99906</td>\n",
       "      <td>2940 N CLINTON ST</td>\n",
       "      <td>None</td>\n",
       "      <td>None</td>\n",
       "      <td>None</td>\n",
       "      <td>46805</td>\n",
       "      <td>NaN</td>\n",
       "      <td>None</td>\n",
       "    </tr>\n",
       "  </tbody>\n",
       "</table>\n",
       "<p>2437 rows × 8 columns</p>\n",
       "</div>"
      ],
      "text/plain": [
       "     location_id           address_1 address_2  city state         zip  \\\n",
       "0        E223702   3083 N GEORGIA ST      None  None  None       46760   \n",
       "2        E371944        5858 N 600 E      None  None  None       46731   \n",
       "4        E435319          PO BOX 145      None  None  None  46974-0145   \n",
       "6        E475126  1543 TALLGRASS TRL      None  None  None       46804   \n",
       "8        E494826  6321 BENNINGTON DR      None  None  None       46815   \n",
       "...          ...                 ...       ...   ...   ...         ...   \n",
       "2443     E994516    1861 GLENLAKE CT      None  None  None       60451   \n",
       "2444     E994965     142 NORTH DRIVE      None  None  None       46740   \n",
       "2445      E99509   525 N BROADWAY ST      None  None  None       46721   \n",
       "2446      E99554  3425 NEW HAVEN AVE      None  None  None       46803   \n",
       "2447      E99906   2940 N CLINTON ST      None  None  None       46805   \n",
       "\n",
       "      county location_source_value  \n",
       "0        NaN                  None  \n",
       "2        NaN                  None  \n",
       "4        NaN                  None  \n",
       "6        NaN                  None  \n",
       "8        NaN                  None  \n",
       "...      ...                   ...  \n",
       "2443     NaN                  None  \n",
       "2444     NaN                  None  \n",
       "2445     NaN                  None  \n",
       "2446     NaN                  None  \n",
       "2447     NaN                  None  \n",
       "\n",
       "[2437 rows x 8 columns]"
      ]
     },
     "execution_count": 10,
     "metadata": {},
     "output_type": "execute_result"
    }
   ],
   "source": [
    "Location"
   ]
  },
  {
   "cell_type": "code",
   "execution_count": null,
   "metadata": {},
   "outputs": [
    {
     "name": "stdout",
     "output_type": "stream",
     "text": [
      "Data updated successfully into the MySQL table.\n"
     ]
    }
   ],
   "source": [
    "\n",
    "mysql_table = \"location\"\n",
    "\n",
    "# Create a connection engine\n",
    "engine = create_engine(f\"mysql+pymysql://{mysql_user}:{mysql_password}@{mysql_host}:{mysql_port}/{mysql_database}\")\n",
    "\n",
    "# Updating the MySQL table\n",
    "try:\n",
    "    # Append data to the existing table while matching column names\n",
    "    Location.to_sql(name=mysql_table, con=engine, if_exists='replace', index=False)\n",
    "    print(\"Data updated successfully into the MySQL table.\")\n",
    "except Exception as e:\n",
    "    print(f\"An error occurred: {e}\")\n"
   ]
  },
  {
   "cell_type": "markdown",
   "metadata": {},
   "source": [
    "Creating Death Table"
   ]
  },
  {
   "cell_type": "code",
   "execution_count": 13,
   "metadata": {},
   "outputs": [],
   "source": [
    "Death=Patients[[\"MRN\",\"DOD\"]]\n",
    "Death = Death.rename(columns={\n",
    "    'MRN': 'person_id',\n",
    "    'DOD': 'death_date',\n",
    "})\n",
    "Death['death_datetime'] = Death[\"death_date\"] \n",
    "Death['death_type_concept_id'] = None  \n",
    "Death['cause_concept_id'] = None  \n",
    "Death['cause_source_value'] = None\n",
    "Death['cause_source_concept_id'] = None\n"
   ]
  },
  {
   "cell_type": "code",
   "execution_count": null,
   "metadata": {},
   "outputs": [],
   "source": []
  },
  {
   "cell_type": "markdown",
   "metadata": {},
   "source": [
    "Creating Person Table"
   ]
  },
  {
   "cell_type": "code",
   "execution_count": 15,
   "metadata": {},
   "outputs": [
    {
     "name": "stderr",
     "output_type": "stream",
     "text": [
      "C:\\Users\\Pc\\AppData\\Local\\Temp\\ipykernel_15968\\709119142.py:3: SettingWithCopyWarning: \n",
      "A value is trying to be set on a copy of a slice from a DataFrame.\n",
      "Try using .loc[row_indexer,col_indexer] = value instead\n",
      "\n",
      "See the caveats in the documentation: https://pandas.pydata.org/pandas-docs/stable/user_guide/indexing.html#returning-a-view-versus-a-copy\n",
      "  Person[\"year_of_birth\"]=Person[\"DOB\"]\n",
      "C:\\Users\\Pc\\AppData\\Local\\Temp\\ipykernel_15968\\709119142.py:4: SettingWithCopyWarning: \n",
      "A value is trying to be set on a copy of a slice from a DataFrame.\n",
      "Try using .loc[row_indexer,col_indexer] = value instead\n",
      "\n",
      "See the caveats in the documentation: https://pandas.pydata.org/pandas-docs/stable/user_guide/indexing.html#returning-a-view-versus-a-copy\n",
      "  Person[\"day_of_birth\"]=Person[\"DOB\"]\n",
      "C:\\Users\\Pc\\AppData\\Local\\Temp\\ipykernel_15968\\709119142.py:5: SettingWithCopyWarning: \n",
      "A value is trying to be set on a copy of a slice from a DataFrame.\n",
      "Try using .loc[row_indexer,col_indexer] = value instead\n",
      "\n",
      "See the caveats in the documentation: https://pandas.pydata.org/pandas-docs/stable/user_guide/indexing.html#returning-a-view-versus-a-copy\n",
      "  Person[\"month_of_birth\"]=Person[\"DOB\"]\n",
      "C:\\Users\\Pc\\AppData\\Local\\Temp\\ipykernel_15968\\709119142.py:6: SettingWithCopyWarning: \n",
      "A value is trying to be set on a copy of a slice from a DataFrame.\n",
      "Try using .loc[row_indexer,col_indexer] = value instead\n",
      "\n",
      "See the caveats in the documentation: https://pandas.pydata.org/pandas-docs/stable/user_guide/indexing.html#returning-a-view-versus-a-copy\n",
      "  Person[\"birth_datetime\"]=Person[\"DOB\"]\n",
      "C:\\Users\\Pc\\AppData\\Local\\Temp\\ipykernel_15968\\709119142.py:7: SettingWithCopyWarning: \n",
      "A value is trying to be set on a copy of a slice from a DataFrame.\n",
      "Try using .loc[row_indexer,col_indexer] = value instead\n",
      "\n",
      "See the caveats in the documentation: https://pandas.pydata.org/pandas-docs/stable/user_guide/indexing.html#returning-a-view-versus-a-copy\n",
      "  Person[\"ethnicity_source_value\"]=Person[\"Ethnicity\"]\n",
      "C:\\Users\\Pc\\AppData\\Local\\Temp\\ipykernel_15968\\709119142.py:8: SettingWithCopyWarning: \n",
      "A value is trying to be set on a copy of a slice from a DataFrame.\n",
      "Try using .loc[row_indexer,col_indexer] = value instead\n",
      "\n",
      "See the caveats in the documentation: https://pandas.pydata.org/pandas-docs/stable/user_guide/indexing.html#returning-a-view-versus-a-copy\n",
      "  Person[\"race_source_value\"]=Person[\"Race\"]\n",
      "C:\\Users\\Pc\\AppData\\Local\\Temp\\ipykernel_15968\\709119142.py:9: SettingWithCopyWarning: \n",
      "A value is trying to be set on a copy of a slice from a DataFrame.\n",
      "Try using .loc[row_indexer,col_indexer] = value instead\n",
      "\n",
      "See the caveats in the documentation: https://pandas.pydata.org/pandas-docs/stable/user_guide/indexing.html#returning-a-view-versus-a-copy\n",
      "  Person[\"person_id\"]=Person[\"MRN\"]\n",
      "C:\\Users\\Pc\\AppData\\Local\\Temp\\ipykernel_15968\\709119142.py:10: SettingWithCopyWarning: \n",
      "A value is trying to be set on a copy of a slice from a DataFrame.\n",
      "Try using .loc[row_indexer,col_indexer] = value instead\n",
      "\n",
      "See the caveats in the documentation: https://pandas.pydata.org/pandas-docs/stable/user_guide/indexing.html#returning-a-view-versus-a-copy\n",
      "  Person[\"location_id\"]=Person[\"MRN\"]\n",
      "C:\\Users\\Pc\\AppData\\Local\\Temp\\ipykernel_15968\\709119142.py:11: SettingWithCopyWarning: \n",
      "A value is trying to be set on a copy of a slice from a DataFrame.\n",
      "Try using .loc[row_indexer,col_indexer] = value instead\n",
      "\n",
      "See the caveats in the documentation: https://pandas.pydata.org/pandas-docs/stable/user_guide/indexing.html#returning-a-view-versus-a-copy\n",
      "  Person[\"gender_source_value\"]=Person[\"Gender\"]\n",
      "C:\\Users\\Pc\\AppData\\Local\\Temp\\ipykernel_15968\\709119142.py:12: SettingWithCopyWarning: \n",
      "A value is trying to be set on a copy of a slice from a DataFrame.\n",
      "Try using .loc[row_indexer,col_indexer] = value instead\n",
      "\n",
      "See the caveats in the documentation: https://pandas.pydata.org/pandas-docs/stable/user_guide/indexing.html#returning-a-view-versus-a-copy\n",
      "  Person[\"gender_concept_id\"]=None\n",
      "C:\\Users\\Pc\\AppData\\Local\\Temp\\ipykernel_15968\\709119142.py:13: SettingWithCopyWarning: \n",
      "A value is trying to be set on a copy of a slice from a DataFrame.\n",
      "Try using .loc[row_indexer,col_indexer] = value instead\n",
      "\n",
      "See the caveats in the documentation: https://pandas.pydata.org/pandas-docs/stable/user_guide/indexing.html#returning-a-view-versus-a-copy\n",
      "  Person[\"race_concept_id\"] = None\n",
      "C:\\Users\\Pc\\AppData\\Local\\Temp\\ipykernel_15968\\709119142.py:14: SettingWithCopyWarning: \n",
      "A value is trying to be set on a copy of a slice from a DataFrame.\n",
      "Try using .loc[row_indexer,col_indexer] = value instead\n",
      "\n",
      "See the caveats in the documentation: https://pandas.pydata.org/pandas-docs/stable/user_guide/indexing.html#returning-a-view-versus-a-copy\n",
      "  Person[\"ethnicity_concept_id\"] = None\n",
      "C:\\Users\\Pc\\AppData\\Local\\Temp\\ipykernel_15968\\709119142.py:15: SettingWithCopyWarning: \n",
      "A value is trying to be set on a copy of a slice from a DataFrame.\n",
      "Try using .loc[row_indexer,col_indexer] = value instead\n",
      "\n",
      "See the caveats in the documentation: https://pandas.pydata.org/pandas-docs/stable/user_guide/indexing.html#returning-a-view-versus-a-copy\n",
      "  Person[\"provider_id\"] = None\n",
      "C:\\Users\\Pc\\AppData\\Local\\Temp\\ipykernel_15968\\709119142.py:16: SettingWithCopyWarning: \n",
      "A value is trying to be set on a copy of a slice from a DataFrame.\n",
      "Try using .loc[row_indexer,col_indexer] = value instead\n",
      "\n",
      "See the caveats in the documentation: https://pandas.pydata.org/pandas-docs/stable/user_guide/indexing.html#returning-a-view-versus-a-copy\n",
      "  Person[\"care_site_id\"] = None\n",
      "C:\\Users\\Pc\\AppData\\Local\\Temp\\ipykernel_15968\\709119142.py:17: SettingWithCopyWarning: \n",
      "A value is trying to be set on a copy of a slice from a DataFrame.\n",
      "Try using .loc[row_indexer,col_indexer] = value instead\n",
      "\n",
      "See the caveats in the documentation: https://pandas.pydata.org/pandas-docs/stable/user_guide/indexing.html#returning-a-view-versus-a-copy\n",
      "  Person[\"person_source_value\"] = None\n",
      "C:\\Users\\Pc\\AppData\\Local\\Temp\\ipykernel_15968\\709119142.py:18: SettingWithCopyWarning: \n",
      "A value is trying to be set on a copy of a slice from a DataFrame.\n",
      "Try using .loc[row_indexer,col_indexer] = value instead\n",
      "\n",
      "See the caveats in the documentation: https://pandas.pydata.org/pandas-docs/stable/user_guide/indexing.html#returning-a-view-versus-a-copy\n",
      "  Person[\"gender_source_concept_id\"] = None\n",
      "C:\\Users\\Pc\\AppData\\Local\\Temp\\ipykernel_15968\\709119142.py:19: SettingWithCopyWarning: \n",
      "A value is trying to be set on a copy of a slice from a DataFrame.\n",
      "Try using .loc[row_indexer,col_indexer] = value instead\n",
      "\n",
      "See the caveats in the documentation: https://pandas.pydata.org/pandas-docs/stable/user_guide/indexing.html#returning-a-view-versus-a-copy\n",
      "  Person[\"race_source_concept_id\"] = None\n",
      "C:\\Users\\Pc\\AppData\\Local\\Temp\\ipykernel_15968\\709119142.py:20: SettingWithCopyWarning: \n",
      "A value is trying to be set on a copy of a slice from a DataFrame.\n",
      "Try using .loc[row_indexer,col_indexer] = value instead\n",
      "\n",
      "See the caveats in the documentation: https://pandas.pydata.org/pandas-docs/stable/user_guide/indexing.html#returning-a-view-versus-a-copy\n",
      "  Person[\"ethnicity_source_concept_id\"] = None\n"
     ]
    }
   ],
   "source": [
    "Person=Patients[[\"DOB\",'Ethnicity', 'MRN','Race',\"Gender\"]]\n",
    "# Person[\"DOB\"]=pd.to_datetime(Person[\"DOB\"])\n",
    "Person[\"year_of_birth\"]=Person[\"DOB\"]\n",
    "Person[\"day_of_birth\"]=Person[\"DOB\"]\n",
    "Person[\"month_of_birth\"]=Person[\"DOB\"]\n",
    "Person[\"birth_datetime\"]=Person[\"DOB\"]\n",
    "Person[\"ethnicity_source_value\"]=Person[\"Ethnicity\"]\n",
    "Person[\"race_source_value\"]=Person[\"Race\"]\n",
    "Person[\"person_id\"]=Person[\"MRN\"]\n",
    "Person[\"location_id\"]=Person[\"MRN\"]\n",
    "Person[\"gender_source_value\"]=Person[\"Gender\"]\n",
    "Person[\"gender_concept_id\"]=None\n",
    "Person[\"race_concept_id\"] = None\n",
    "Person[\"ethnicity_concept_id\"] = None\n",
    "Person[\"provider_id\"] = None\n",
    "Person[\"care_site_id\"] = None\n",
    "Person[\"person_source_value\"] = None\n",
    "Person[\"gender_source_concept_id\"] = None\n",
    "Person[\"race_source_concept_id\"] = None\n",
    "Person[\"ethnicity_source_concept_id\"] = None\n",
    "\n",
    "Person=Person.drop(columns=[\"DOB\",'Ethnicity', 'MRN','Race',\"Gender\"])\n"
   ]
  },
  {
   "cell_type": "code",
   "execution_count": null,
   "metadata": {},
   "outputs": [
    {
     "name": "stdout",
     "output_type": "stream",
     "text": [
      "Data updated successfully into the MySQL table.\n"
     ]
    }
   ],
   "source": []
  },
  {
   "cell_type": "markdown",
   "metadata": {},
   "source": [
    "Creating Visit occurance"
   ]
  },
  {
   "cell_type": "code",
   "execution_count": 20,
   "metadata": {},
   "outputs": [
    {
     "data": {
      "text/plain": [
       "Index(['Encounter', 'Encounter ID', 'Encounter Type', 'Encounter DOS',\n",
       "       'Facility ID', 'Attending Physician', 'Facility me', 'DRG', 'MRN',\n",
       "       'Patient me', 'Encounter Reason'],\n",
       "      dtype='object')"
      ]
     },
     "execution_count": 20,
     "metadata": {},
     "output_type": "execute_result"
    }
   ],
   "source": [
    "Encounters.columns"
   ]
  },
  {
   "cell_type": "code",
   "execution_count": 21,
   "metadata": {},
   "outputs": [
    {
     "name": "stderr",
     "output_type": "stream",
     "text": [
      "C:\\Users\\Pc\\AppData\\Local\\Temp\\ipykernel_15968\\2224114910.py:16: SettingWithCopyWarning: \n",
      "A value is trying to be set on a copy of a slice from a DataFrame\n",
      "\n",
      "See the caveats in the documentation: https://pandas.pydata.org/pandas-docs/stable/user_guide/indexing.html#returning-a-view-versus-a-copy\n",
      "  Visit_occurance.rename(columns=column_mapping, inplace=True)\n",
      "C:\\Users\\Pc\\AppData\\Local\\Temp\\ipykernel_15968\\2224114910.py:17: SettingWithCopyWarning: \n",
      "A value is trying to be set on a copy of a slice from a DataFrame.\n",
      "Try using .loc[row_indexer,col_indexer] = value instead\n",
      "\n",
      "See the caveats in the documentation: https://pandas.pydata.org/pandas-docs/stable/user_guide/indexing.html#returning-a-view-versus-a-copy\n",
      "  Visit_occurance[\"visit_start_datetime\"] = Visit_occurance[\"visit_start_date\"]\n",
      "C:\\Users\\Pc\\AppData\\Local\\Temp\\ipykernel_15968\\2224114910.py:18: SettingWithCopyWarning: \n",
      "A value is trying to be set on a copy of a slice from a DataFrame.\n",
      "Try using .loc[row_indexer,col_indexer] = value instead\n",
      "\n",
      "See the caveats in the documentation: https://pandas.pydata.org/pandas-docs/stable/user_guide/indexing.html#returning-a-view-versus-a-copy\n",
      "  Visit_occurance[\"discharge_to_concept_id\"] = None\n",
      "C:\\Users\\Pc\\AppData\\Local\\Temp\\ipykernel_15968\\2224114910.py:19: SettingWithCopyWarning: \n",
      "A value is trying to be set on a copy of a slice from a DataFrame.\n",
      "Try using .loc[row_indexer,col_indexer] = value instead\n",
      "\n",
      "See the caveats in the documentation: https://pandas.pydata.org/pandas-docs/stable/user_guide/indexing.html#returning-a-view-versus-a-copy\n",
      "  Visit_occurance[\"visit_concept_id\"] = None\n"
     ]
    }
   ],
   "source": [
    "Visit_occurance=Encounters[[ 'Encounter ID', 'Encounter Type', 'Encounter DOS',\"MRN\",\n",
    "       'Attending Physician', 'Facility me', 'Encounter Reason']]\n",
    "column_mapping = {\n",
    "    'Encounter ID': 'visit_occurrence_id',\n",
    "    'MRN': 'person_id',\n",
    "    'Encounter DOS': 'visit_start_date',\n",
    "    # 'Admit Time': 'visit_start_datetime',\n",
    "    # 'Discharge Time': 'visit_end_datetime',\n",
    "    'Encounter Type': 'visit_type_concept_id',\n",
    "    'Attending Physician': 'provider_id',\n",
    "    'Facility me': 'care_site_id',\n",
    "\"Encounter Reason\":\"visit_source_value\"\n",
    "\n",
    "    # 'Discharge Disposition': 'discharge_to_concept_id'\n",
    "}\n",
    "Visit_occurance.rename(columns=column_mapping, inplace=True)\n",
    "Visit_occurance[\"visit_start_datetime\"] = Visit_occurance[\"visit_start_date\"]\n",
    "Visit_occurance[\"discharge_to_concept_id\"] = None\n",
    "Visit_occurance[\"visit_concept_id\"] = None\n",
    "Visit_occurance[\"visit_end_date\"] = None\n",
    "Visit_occurance[\"visit_end_datetime\"] = None\n",
    "Visit_occurance[\"admitted_from_concept_id\"] = None\n",
    "Visit_occurance[\"preceding_visit_occurrence_id\"] = None\n",
    "Visit_occurance[\"visit_source_concept_id\"] = None\n",
    "Visit_occurance[\"admitted_from_source_value\"] = None\n",
    "Visit_occurance[\"discharge_to_source_value\"] = None\n",
    "Visit_occurance[\"discharged_to_concept_id\"] = None\n"
   ]
  },
  {
   "cell_type": "code",
   "execution_count": 23,
   "metadata": {},
   "outputs": [
    {
     "name": "stdout",
     "output_type": "stream",
     "text": [
      "Data updated successfully into the MySQL table.\n"
     ]
    }
   ],
   "source": [
    "to_sql(\"visit_occurrence\",Visit_occurance)"
   ]
  },
  {
   "cell_type": "markdown",
   "metadata": {},
   "source": [
    "Creating Observation Table"
   ]
  },
  {
   "cell_type": "code",
   "execution_count": 24,
   "metadata": {},
   "outputs": [],
   "source": [
    "Observations=Patients[[\"MRN\",'Alcohol', 'Smoking',]]\n",
    "\n",
    "Observations = Observations.melt(\n",
    "    id_vars=[\"MRN\"], \n",
    "    value_vars=[\"Alcohol\", \"Smoking\"], \n",
    "    var_name=\"Categorey\", \n",
    "    value_name=\"Value\"\n",
    ")\n",
    "\n",
    "# Renaming columns as per the mapping\n",
    "column_mapping_observations = {\n",
    "    \"MRN\": \"person_id\",\n",
    "    \"Categorey\": \"observation_type_concept_id\",\n",
    "    \"Value\": \"value_as_string\"\n",
    "}\n",
    "\n",
    "Observations.rename(columns=column_mapping_observations, inplace=True)"
   ]
  },
  {
   "cell_type": "code",
   "execution_count": 25,
   "metadata": {},
   "outputs": [],
   "source": [
    "Observations=Observations.drop_duplicates()"
   ]
  },
  {
   "cell_type": "code",
   "execution_count": 26,
   "metadata": {},
   "outputs": [
    {
     "name": "stdout",
     "output_type": "stream",
     "text": [
      "Data updated successfully into the MySQL table.\n"
     ]
    }
   ],
   "source": [
    "to_sql(\"observation\",Observations)"
   ]
  },
  {
   "cell_type": "markdown",
   "metadata": {},
   "source": [
    "Creating Observations Table"
   ]
  },
  {
   "cell_type": "code",
   "execution_count": null,
   "metadata": {},
   "outputs": [],
   "source": []
  },
  {
   "cell_type": "code",
   "execution_count": 34,
   "metadata": {},
   "outputs": [
    {
     "name": "stderr",
     "output_type": "stream",
     "text": [
      "C:\\Users\\Pc\\AppData\\Local\\Temp\\ipykernel_15968\\3452461889.py:15: SettingWithCopyWarning: \n",
      "A value is trying to be set on a copy of a slice from a DataFrame\n",
      "\n",
      "See the caveats in the documentation: https://pandas.pydata.org/pandas-docs/stable/user_guide/indexing.html#returning-a-view-versus-a-copy\n",
      "  measurements.rename(columns=rename_mapping_measurements, inplace=True)\n",
      "C:\\Users\\Pc\\AppData\\Local\\Temp\\ipykernel_15968\\3452461889.py:17: SettingWithCopyWarning: \n",
      "A value is trying to be set on a copy of a slice from a DataFrame.\n",
      "Try using .loc[row_indexer,col_indexer] = value instead\n",
      "\n",
      "See the caveats in the documentation: https://pandas.pydata.org/pandas-docs/stable/user_guide/indexing.html#returning-a-view-versus-a-copy\n",
      "  measurements['range_high']=measurements[\"range_low\"]\n"
     ]
    }
   ],
   "source": [
    "measurements=Lab_results[[\"MRN\",'Order date','Specimen type-like blood, urnine','Result value','Units','Normal range',\n",
    "                         'Encounter ID','LOINC Code']]\n",
    "rename_mapping_measurements = {\n",
    "    'Order date': 'measurement_date',\n",
    "    'Specimen type-like blood, urnine': 'measurement_type_concept_id',\n",
    "    'Result value': 'value_as_number',\n",
    "    'Units': 'unit_concept_id',\n",
    "    'Normal range': 'range_low',  # Will require splitting into two columns\n",
    "    'Encounter ID': 'visit_occurrence_id',\n",
    "    'LOINC Code': 'measurement_source_value',\n",
    "    'MRN':\"person_id\"\n",
    "}\n",
    "\n",
    "# Renaming columns (for Normal range, split into two new columns)\n",
    "measurements.rename(columns=rename_mapping_measurements, inplace=True)\n",
    "\n",
    "measurements['range_high']=measurements[\"range_low\"]"
   ]
  },
  {
   "cell_type": "code",
   "execution_count": 35,
   "metadata": {},
   "outputs": [
    {
     "name": "stdout",
     "output_type": "stream",
     "text": [
      "Data updated successfully into the MySQL table.\n"
     ]
    }
   ],
   "source": [
    "to_sql(\"measurement\",measurements)"
   ]
  },
  {
   "cell_type": "markdown",
   "metadata": {},
   "source": [
    "Creating Conditions Occurance"
   ]
  },
  {
   "cell_type": "code",
   "execution_count": null,
   "metadata": {},
   "outputs": [],
   "source": []
  },
  {
   "cell_type": "code",
   "execution_count": 29,
   "metadata": {},
   "outputs": [
    {
     "data": {
      "text/plain": [
       "Index(['Diagnosis', 'Patient me', 'MRN', 'DX Timestamp', 'Facility ID',\n",
       "       'Primary Diagnosis', 'HCC Conditions', 'Encounter DOS',\n",
       "       'Encounter Type'],\n",
       "      dtype='object')"
      ]
     },
     "execution_count": 29,
     "metadata": {},
     "output_type": "execute_result"
    }
   ],
   "source": [
    "conditions.columns"
   ]
  },
  {
   "cell_type": "code",
   "execution_count": 31,
   "metadata": {},
   "outputs": [],
   "source": [
    "conditions_transfroamtion=conditions[[\"MRN\",\"Primary Diagnosis\",\"HCC Conditions\"\t,\"Encounter DOS\",'Encounter Type']]"
   ]
  },
  {
   "cell_type": "code",
   "execution_count": 32,
   "metadata": {},
   "outputs": [],
   "source": [
    "\n",
    "conditions_transfroamtion = conditions_transfroamtion.melt(\n",
    "    id_vars=[\"MRN\",\"Encounter DOS\",'Encounter Type'], \n",
    "    value_vars=[\"Primary Diagnosis\",\"HCC Conditions\"], \n",
    "    var_name=\"Categorey\", \n",
    "    value_name=\"Value\"\n",
    ")\n"
   ]
  },
  {
   "cell_type": "code",
   "execution_count": 33,
   "metadata": {},
   "outputs": [],
   "source": [
    "conditions_transfroamtion=conditions_transfroamtion.drop_duplicates()"
   ]
  },
  {
   "cell_type": "code",
   "execution_count": 34,
   "metadata": {},
   "outputs": [],
   "source": [
    "conditions_transfroamtion['Value'] = conditions_transfroamtion['Value'].str.split(', ')\n",
    "conditions_transfroamtion = conditions_transfroamtion.explode('Value')"
   ]
  },
  {
   "cell_type": "code",
   "execution_count": 35,
   "metadata": {},
   "outputs": [
    {
     "data": {
      "text/plain": [
       "Index(['MRN', 'Encounter DOS', 'Encounter Type', 'Categorey', 'Value'], dtype='object')"
      ]
     },
     "execution_count": 35,
     "metadata": {},
     "output_type": "execute_result"
    }
   ],
   "source": [
    "conditions_transfroamtion.columns"
   ]
  },
  {
   "cell_type": "code",
   "execution_count": null,
   "metadata": {},
   "outputs": [],
   "source": [
    "\n",
    "# person_id-MRN\n",
    "# condition_start_date-Encounter DOS\n",
    "# condition_start_datetime-Encounter DOS\n",
    "# condition_type_concept_id-Value\n",
    "# condition_source_value--Categorey\n"
   ]
  },
  {
   "cell_type": "code",
   "execution_count": 36,
   "metadata": {},
   "outputs": [],
   "source": [
    "conditons_occurence=conditions_transfroamtion[['MRN', 'Encounter DOS','Encounter Type' ,'Categorey', 'Value']]\n",
    "conditons_occurence = conditons_occurence.rename(columns={\n",
    "    'MRN': 'person_id',\n",
    "    'Encounter DOS': 'condition_start_datetime',\n",
    "    'Categorey': 'condition_source_value',\n",
    "    'Value': 'condition_type_concept_id'\n",
    "})\n"
   ]
  },
  {
   "cell_type": "code",
   "execution_count": 37,
   "metadata": {},
   "outputs": [
    {
     "name": "stdout",
     "output_type": "stream",
     "text": [
      "Data updated successfully into the MySQL table.\n"
     ]
    }
   ],
   "source": [
    "to_sql(\"condition_occurrence\",conditons_occurence)"
   ]
  },
  {
   "cell_type": "code",
   "execution_count": 9,
   "metadata": {},
   "outputs": [
    {
     "data": {
      "text/html": [
       "<div>\n",
       "<style scoped>\n",
       "    .dataframe tbody tr th:only-of-type {\n",
       "        vertical-align: middle;\n",
       "    }\n",
       "\n",
       "    .dataframe tbody tr th {\n",
       "        vertical-align: top;\n",
       "    }\n",
       "\n",
       "    .dataframe thead th {\n",
       "        text-align: right;\n",
       "    }\n",
       "</style>\n",
       "<table border=\"1\" class=\"dataframe\">\n",
       "  <thead>\n",
       "    <tr style=\"text-align: right;\">\n",
       "      <th></th>\n",
       "      <th>person_id</th>\n",
       "      <th>condition_start_datetime</th>\n",
       "      <th>condition_source_value</th>\n",
       "      <th>condition_type_concept_id</th>\n",
       "    </tr>\n",
       "  </thead>\n",
       "  <tbody>\n",
       "    <tr>\n",
       "      <th>0</th>\n",
       "      <td>E461345</td>\n",
       "      <td>2025-04-01</td>\n",
       "      <td>Primary Diagnosis</td>\n",
       "      <td>D64.9</td>\n",
       "    </tr>\n",
       "    <tr>\n",
       "      <th>0</th>\n",
       "      <td>E461345</td>\n",
       "      <td>2025-04-01</td>\n",
       "      <td>Primary Diagnosis</td>\n",
       "      <td>Z12.11</td>\n",
       "    </tr>\n",
       "    <tr>\n",
       "      <th>1</th>\n",
       "      <td>E461345</td>\n",
       "      <td>2025-04-01</td>\n",
       "      <td>Primary Diagnosis</td>\n",
       "      <td>NaN</td>\n",
       "    </tr>\n",
       "    <tr>\n",
       "      <th>2</th>\n",
       "      <td>E1266972</td>\n",
       "      <td>2025-03-24</td>\n",
       "      <td>Primary Diagnosis</td>\n",
       "      <td>NaN</td>\n",
       "    </tr>\n",
       "    <tr>\n",
       "      <th>3</th>\n",
       "      <td>E1266972</td>\n",
       "      <td>2025-03-18</td>\n",
       "      <td>Primary Diagnosis</td>\n",
       "      <td>NaN</td>\n",
       "    </tr>\n",
       "    <tr>\n",
       "      <th>...</th>\n",
       "      <td>...</td>\n",
       "      <td>...</td>\n",
       "      <td>...</td>\n",
       "      <td>...</td>\n",
       "    </tr>\n",
       "    <tr>\n",
       "      <th>34026</th>\n",
       "      <td>E190284</td>\n",
       "      <td>2004-11-07</td>\n",
       "      <td>HCC Conditions</td>\n",
       "      <td>E11.9</td>\n",
       "    </tr>\n",
       "    <tr>\n",
       "      <th>34027</th>\n",
       "      <td>E173208</td>\n",
       "      <td>2004-06-18</td>\n",
       "      <td>HCC Conditions</td>\n",
       "      <td>NaN</td>\n",
       "    </tr>\n",
       "    <tr>\n",
       "      <th>34028</th>\n",
       "      <td>E41554</td>\n",
       "      <td>2004-05-03</td>\n",
       "      <td>HCC Conditions</td>\n",
       "      <td>NaN</td>\n",
       "    </tr>\n",
       "    <tr>\n",
       "      <th>34029</th>\n",
       "      <td>E534155</td>\n",
       "      <td>2004-04-16</td>\n",
       "      <td>HCC Conditions</td>\n",
       "      <td>E11.65</td>\n",
       "    </tr>\n",
       "    <tr>\n",
       "      <th>34029</th>\n",
       "      <td>E534155</td>\n",
       "      <td>2004-04-16</td>\n",
       "      <td>HCC Conditions</td>\n",
       "      <td>R56.9</td>\n",
       "    </tr>\n",
       "  </tbody>\n",
       "</table>\n",
       "<p>113082 rows × 4 columns</p>\n",
       "</div>"
      ],
      "text/plain": [
       "      person_id condition_start_datetime condition_source_value  \\\n",
       "0       E461345               2025-04-01      Primary Diagnosis   \n",
       "0       E461345               2025-04-01      Primary Diagnosis   \n",
       "1       E461345               2025-04-01      Primary Diagnosis   \n",
       "2      E1266972               2025-03-24      Primary Diagnosis   \n",
       "3      E1266972               2025-03-18      Primary Diagnosis   \n",
       "...         ...                      ...                    ...   \n",
       "34026   E190284               2004-11-07         HCC Conditions   \n",
       "34027   E173208               2004-06-18         HCC Conditions   \n",
       "34028    E41554               2004-05-03         HCC Conditions   \n",
       "34029   E534155               2004-04-16         HCC Conditions   \n",
       "34029   E534155               2004-04-16         HCC Conditions   \n",
       "\n",
       "      condition_type_concept_id  \n",
       "0                         D64.9  \n",
       "0                        Z12.11  \n",
       "1                           NaN  \n",
       "2                           NaN  \n",
       "3                           NaN  \n",
       "...                         ...  \n",
       "34026                     E11.9  \n",
       "34027                       NaN  \n",
       "34028                       NaN  \n",
       "34029                    E11.65  \n",
       "34029                     R56.9  \n",
       "\n",
       "[113082 rows x 4 columns]"
      ]
     },
     "execution_count": 9,
     "metadata": {},
     "output_type": "execute_result"
    }
   ],
   "source": [
    "conditons_occurence\n"
   ]
  },
  {
   "cell_type": "code",
   "execution_count": 11,
   "metadata": {},
   "outputs": [],
   "source": [
    "diab_codes=pd.read_excel(r\"C:\\Users\\Pc\\OneDrive - Aidwise Private Ltd\\Jorie\\ICD10_diabetes_codes.xlsx\")"
   ]
  },
  {
   "cell_type": "code",
   "execution_count": 12,
   "metadata": {},
   "outputs": [
    {
     "data": {
      "text/plain": [
       "Index(['ICD_10', 'DESCRIPTIONS', 'Code Status'], dtype='object')"
      ]
     },
     "execution_count": 12,
     "metadata": {},
     "output_type": "execute_result"
    }
   ],
   "source": [
    "diab_codes.columns"
   ]
  },
  {
   "cell_type": "code",
   "execution_count": 13,
   "metadata": {},
   "outputs": [],
   "source": [
    "Diabetic_patietns=conditons_occurence[conditons_occurence[\"condition_type_concept_id\"].isin(diab_codes[\"ICD_10\"].unique())]"
   ]
  },
  {
   "cell_type": "code",
   "execution_count": 15,
   "metadata": {},
   "outputs": [
    {
     "data": {
      "text/plain": [
       "472"
      ]
     },
     "execution_count": 15,
     "metadata": {},
     "output_type": "execute_result"
    }
   ],
   "source": [
    "Diabetic_patietns[\"person_id\"].nunique()"
   ]
  },
  {
   "cell_type": "code",
   "execution_count": 17,
   "metadata": {},
   "outputs": [
    {
     "data": {
      "text/plain": [
       "array(['E11.621', 'E11.42', 'E11.40', 'E13.21', 'E11.9', 'E11.69',\n",
       "       'E11.3411', 'E11.65', 'E11.22', 'E10.65', 'E10.10', 'E11.43',\n",
       "       'E08.59', 'E11.51', 'E11.8', 'E11.628', 'E11.610', 'E11.59',\n",
       "       'E10.9', 'E13.40', 'E11.3599', 'E11.319', 'E11.3292', 'E11.49',\n",
       "       'E11.00', 'E11.622', 'E10.22', 'E08.621', 'E11.618', 'E11.3293',\n",
       "       'E11.21', 'E11.29', 'E11.311', 'E11.3419', 'E11.3512', 'E11.3593',\n",
       "       'E11.10', 'E11.3553', 'E11.3513', 'E11.3299', 'E11.3291',\n",
       "       'E11.649', 'E13.9', 'E13.69', 'E10.621', 'E10.49', 'E10.8',\n",
       "       'E10.649', 'E13.621', 'E10.69', 'E11.3393', 'E13.51', 'E11.01',\n",
       "       'E11.52', 'E10.3553', 'E11.39'], dtype=object)"
      ]
     },
     "execution_count": 17,
     "metadata": {},
     "output_type": "execute_result"
    }
   ],
   "source": [
    "Diabetic_patietns[\"condition_type_concept_id\"].unique()"
   ]
  },
  {
   "cell_type": "code",
   "execution_count": 19,
   "metadata": {},
   "outputs": [],
   "source": [
    "diab_codes[diab_codes[\"ICD_10\"].isin(Diabetic_patietns[\"condition_type_concept_id\"].unique())].to_csv(\"Diabetic_patients.csv\")"
   ]
  },
  {
   "cell_type": "code",
   "execution_count": null,
   "metadata": {},
   "outputs": [],
   "source": []
  },
  {
   "cell_type": "code",
   "execution_count": null,
   "metadata": {},
   "outputs": [],
   "source": []
  },
  {
   "cell_type": "code",
   "execution_count": null,
   "metadata": {},
   "outputs": [],
   "source": []
  },
  {
   "cell_type": "code",
   "execution_count": null,
   "metadata": {},
   "outputs": [],
   "source": []
  },
  {
   "cell_type": "markdown",
   "metadata": {},
   "source": [
    "Creating Procedures"
   ]
  },
  {
   "cell_type": "code",
   "execution_count": null,
   "metadata": {},
   "outputs": [],
   "source": [
    "import pandas as pd\n"
   ]
  },
  {
   "cell_type": "code",
   "execution_count": 39,
   "metadata": {},
   "outputs": [
    {
     "data": {
      "text/plain": [
       "Index(['MRN', 'Procedure', 'Encounter Type', 'Encounter DOS', 'Patient me',\n",
       "       'Facility ID', 'Performing Provider', 'Mapped Proc Code',\n",
       "       'Ordering Provider id', 'local me- SNOMED descp'],\n",
       "      dtype='object')"
      ]
     },
     "execution_count": 39,
     "metadata": {},
     "output_type": "execute_result"
    }
   ],
   "source": [
    "procedures.columns"
   ]
  },
  {
   "cell_type": "code",
   "execution_count": 40,
   "metadata": {},
   "outputs": [],
   "source": [
    "procedures=procedures[['MRN','Encounter Type','Encounter DOS', 'Mapped Proc Code']]"
   ]
  },
  {
   "cell_type": "code",
   "execution_count": 41,
   "metadata": {},
   "outputs": [],
   "source": [
    "procedures['Mapped Proc Code'] = procedures['Mapped Proc Code'].str.split(', ')\n",
    "procedures = procedures.explode('Mapped Proc Code')"
   ]
  },
  {
   "cell_type": "code",
   "execution_count": 42,
   "metadata": {},
   "outputs": [
    {
     "data": {
      "text/html": [
       "<div>\n",
       "<style scoped>\n",
       "    .dataframe tbody tr th:only-of-type {\n",
       "        vertical-align: middle;\n",
       "    }\n",
       "\n",
       "    .dataframe tbody tr th {\n",
       "        vertical-align: top;\n",
       "    }\n",
       "\n",
       "    .dataframe thead th {\n",
       "        text-align: right;\n",
       "    }\n",
       "</style>\n",
       "<table border=\"1\" class=\"dataframe\">\n",
       "  <thead>\n",
       "    <tr style=\"text-align: right;\">\n",
       "      <th></th>\n",
       "      <th>MRN</th>\n",
       "      <th>Encounter Type</th>\n",
       "      <th>Encounter DOS</th>\n",
       "      <th>Mapped Proc Code</th>\n",
       "    </tr>\n",
       "  </thead>\n",
       "  <tbody>\n",
       "    <tr>\n",
       "      <th>0</th>\n",
       "      <td>E655096</td>\n",
       "      <td>Surgery</td>\n",
       "      <td>11/04/2024</td>\n",
       "      <td>NaN</td>\n",
       "    </tr>\n",
       "    <tr>\n",
       "      <th>1</th>\n",
       "      <td>E558187</td>\n",
       "      <td>Surgery</td>\n",
       "      <td>09/20/2019</td>\n",
       "      <td>NaN</td>\n",
       "    </tr>\n",
       "    <tr>\n",
       "      <th>2</th>\n",
       "      <td>E428253</td>\n",
       "      <td>Surgery</td>\n",
       "      <td>02/28/2023</td>\n",
       "      <td>NaN</td>\n",
       "    </tr>\n",
       "    <tr>\n",
       "      <th>3</th>\n",
       "      <td>E221550</td>\n",
       "      <td>Surgery</td>\n",
       "      <td>11/01/2023</td>\n",
       "      <td>NaN</td>\n",
       "    </tr>\n",
       "    <tr>\n",
       "      <th>4</th>\n",
       "      <td>E671480</td>\n",
       "      <td>Surgery</td>\n",
       "      <td>06/23/2015</td>\n",
       "      <td>NaN</td>\n",
       "    </tr>\n",
       "    <tr>\n",
       "      <th>...</th>\n",
       "      <td>...</td>\n",
       "      <td>...</td>\n",
       "      <td>...</td>\n",
       "      <td>...</td>\n",
       "    </tr>\n",
       "    <tr>\n",
       "      <th>54437</th>\n",
       "      <td>E692445</td>\n",
       "      <td>Lab</td>\n",
       "      <td>06/09/2023</td>\n",
       "      <td>NaN</td>\n",
       "    </tr>\n",
       "    <tr>\n",
       "      <th>54438</th>\n",
       "      <td>E692445</td>\n",
       "      <td>Office Visit</td>\n",
       "      <td>05/30/2023</td>\n",
       "      <td>NaN</td>\n",
       "    </tr>\n",
       "    <tr>\n",
       "      <th>54439</th>\n",
       "      <td>E692445</td>\n",
       "      <td>Travel</td>\n",
       "      <td>05/30/2023</td>\n",
       "      <td>NaN</td>\n",
       "    </tr>\n",
       "    <tr>\n",
       "      <th>54440</th>\n",
       "      <td>E692445</td>\n",
       "      <td>Office Visit</td>\n",
       "      <td>04/11/2023</td>\n",
       "      <td>NaN</td>\n",
       "    </tr>\n",
       "    <tr>\n",
       "      <th>54441</th>\n",
       "      <td>E692445</td>\n",
       "      <td>Travel</td>\n",
       "      <td>04/11/2023</td>\n",
       "      <td>NaN</td>\n",
       "    </tr>\n",
       "  </tbody>\n",
       "</table>\n",
       "<p>54275 rows × 4 columns</p>\n",
       "</div>"
      ],
      "text/plain": [
       "           MRN Encounter Type Encounter DOS Mapped Proc Code\n",
       "0      E655096        Surgery    11/04/2024              NaN\n",
       "1      E558187        Surgery    09/20/2019              NaN\n",
       "2      E428253        Surgery    02/28/2023              NaN\n",
       "3      E221550        Surgery    11/01/2023              NaN\n",
       "4      E671480        Surgery    06/23/2015              NaN\n",
       "...        ...            ...           ...              ...\n",
       "54437  E692445            Lab    06/09/2023              NaN\n",
       "54438  E692445   Office Visit    05/30/2023              NaN\n",
       "54439  E692445         Travel    05/30/2023              NaN\n",
       "54440  E692445   Office Visit    04/11/2023              NaN\n",
       "54441  E692445         Travel    04/11/2023              NaN\n",
       "\n",
       "[54275 rows x 4 columns]"
      ]
     },
     "execution_count": 42,
     "metadata": {},
     "output_type": "execute_result"
    }
   ],
   "source": [
    "procedures.drop_duplicates()"
   ]
  },
  {
   "cell_type": "code",
   "execution_count": 43,
   "metadata": {},
   "outputs": [],
   "source": [
    "# procedure_occurrence_id\n",
    "# person_id-MRN\n",
    "# procedure_concept_id-Encounter Type\n",
    "# procedure_date-Encounter DOS\n",
    "# procedure_datetime\n",
    "# procedure_end_date\n",
    "# procedure_end_datetime\n",
    "# procedure_type_concept_id\n",
    "# modifier_concept_id\n",
    "# quantity\n",
    "# provider_id\n",
    "# visit_occurrence_id\n",
    "# visit_detail_id\n",
    "# procedure_source_value\n",
    "# procedure_source_concept_id\n",
    "# modifier_source_value\n",
    "\n",
    "\n",
    "procedures = procedures.rename(columns={\n",
    "    'MRN': 'person_id',\n",
    "    'Encounter DOS': 'procedure_date',\n",
    "    'procedure_concept_id': 'Mapped Proc Code',\n",
    "    'Encounter Type': 'Encounter Type'\n",
    "})"
   ]
  },
  {
   "cell_type": "code",
   "execution_count": 44,
   "metadata": {},
   "outputs": [
    {
     "data": {
      "text/html": [
       "<div>\n",
       "<style scoped>\n",
       "    .dataframe tbody tr th:only-of-type {\n",
       "        vertical-align: middle;\n",
       "    }\n",
       "\n",
       "    .dataframe tbody tr th {\n",
       "        vertical-align: top;\n",
       "    }\n",
       "\n",
       "    .dataframe thead th {\n",
       "        text-align: right;\n",
       "    }\n",
       "</style>\n",
       "<table border=\"1\" class=\"dataframe\">\n",
       "  <thead>\n",
       "    <tr style=\"text-align: right;\">\n",
       "      <th></th>\n",
       "      <th>person_id</th>\n",
       "      <th>Encounter Type</th>\n",
       "      <th>procedure_date</th>\n",
       "      <th>Mapped Proc Code</th>\n",
       "    </tr>\n",
       "  </thead>\n",
       "  <tbody>\n",
       "    <tr>\n",
       "      <th>0</th>\n",
       "      <td>E655096</td>\n",
       "      <td>Surgery</td>\n",
       "      <td>11/04/2024</td>\n",
       "      <td>NaN</td>\n",
       "    </tr>\n",
       "    <tr>\n",
       "      <th>1</th>\n",
       "      <td>E558187</td>\n",
       "      <td>Surgery</td>\n",
       "      <td>09/20/2019</td>\n",
       "      <td>NaN</td>\n",
       "    </tr>\n",
       "    <tr>\n",
       "      <th>2</th>\n",
       "      <td>E428253</td>\n",
       "      <td>Surgery</td>\n",
       "      <td>02/28/2023</td>\n",
       "      <td>NaN</td>\n",
       "    </tr>\n",
       "    <tr>\n",
       "      <th>3</th>\n",
       "      <td>E221550</td>\n",
       "      <td>Surgery</td>\n",
       "      <td>11/01/2023</td>\n",
       "      <td>NaN</td>\n",
       "    </tr>\n",
       "    <tr>\n",
       "      <th>4</th>\n",
       "      <td>E671480</td>\n",
       "      <td>Surgery</td>\n",
       "      <td>06/23/2015</td>\n",
       "      <td>NaN</td>\n",
       "    </tr>\n",
       "    <tr>\n",
       "      <th>...</th>\n",
       "      <td>...</td>\n",
       "      <td>...</td>\n",
       "      <td>...</td>\n",
       "      <td>...</td>\n",
       "    </tr>\n",
       "    <tr>\n",
       "      <th>54437</th>\n",
       "      <td>E692445</td>\n",
       "      <td>Lab</td>\n",
       "      <td>06/09/2023</td>\n",
       "      <td>NaN</td>\n",
       "    </tr>\n",
       "    <tr>\n",
       "      <th>54438</th>\n",
       "      <td>E692445</td>\n",
       "      <td>Office Visit</td>\n",
       "      <td>05/30/2023</td>\n",
       "      <td>NaN</td>\n",
       "    </tr>\n",
       "    <tr>\n",
       "      <th>54439</th>\n",
       "      <td>E692445</td>\n",
       "      <td>Travel</td>\n",
       "      <td>05/30/2023</td>\n",
       "      <td>NaN</td>\n",
       "    </tr>\n",
       "    <tr>\n",
       "      <th>54440</th>\n",
       "      <td>E692445</td>\n",
       "      <td>Office Visit</td>\n",
       "      <td>04/11/2023</td>\n",
       "      <td>NaN</td>\n",
       "    </tr>\n",
       "    <tr>\n",
       "      <th>54441</th>\n",
       "      <td>E692445</td>\n",
       "      <td>Travel</td>\n",
       "      <td>04/11/2023</td>\n",
       "      <td>NaN</td>\n",
       "    </tr>\n",
       "  </tbody>\n",
       "</table>\n",
       "<p>54933 rows × 4 columns</p>\n",
       "</div>"
      ],
      "text/plain": [
       "      person_id Encounter Type procedure_date Mapped Proc Code\n",
       "0       E655096        Surgery     11/04/2024              NaN\n",
       "1       E558187        Surgery     09/20/2019              NaN\n",
       "2       E428253        Surgery     02/28/2023              NaN\n",
       "3       E221550        Surgery     11/01/2023              NaN\n",
       "4       E671480        Surgery     06/23/2015              NaN\n",
       "...         ...            ...            ...              ...\n",
       "54437   E692445            Lab     06/09/2023              NaN\n",
       "54438   E692445   Office Visit     05/30/2023              NaN\n",
       "54439   E692445         Travel     05/30/2023              NaN\n",
       "54440   E692445   Office Visit     04/11/2023              NaN\n",
       "54441   E692445         Travel     04/11/2023              NaN\n",
       "\n",
       "[54933 rows x 4 columns]"
      ]
     },
     "execution_count": 44,
     "metadata": {},
     "output_type": "execute_result"
    }
   ],
   "source": [
    "procedures"
   ]
  },
  {
   "cell_type": "code",
   "execution_count": 45,
   "metadata": {},
   "outputs": [
    {
     "name": "stdout",
     "output_type": "stream",
     "text": [
      "Data updated successfully into the MySQL table.\n"
     ]
    }
   ],
   "source": [
    "to_sql(\"procedure_occurrence\",procedures)"
   ]
  },
  {
   "cell_type": "code",
   "execution_count": null,
   "metadata": {},
   "outputs": [],
   "source": []
  }
 ],
 "metadata": {
  "kernelspec": {
   "display_name": "Python 3",
   "language": "python",
   "name": "python3"
  },
  "language_info": {
   "codemirror_mode": {
    "name": "ipython",
    "version": 3
   },
   "file_extension": ".py",
   "mimetype": "text/x-python",
   "name": "python",
   "nbconvert_exporter": "python",
   "pygments_lexer": "ipython3",
   "version": "3.12.2"
  }
 },
 "nbformat": 4,
 "nbformat_minor": 2
}
