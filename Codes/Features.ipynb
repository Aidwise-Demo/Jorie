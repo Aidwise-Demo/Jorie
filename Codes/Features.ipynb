{
 "cells": [
  {
   "cell_type": "code",
   "execution_count": 88,
   "metadata": {},
   "outputs": [],
   "source": [
    "import mysql.connector\n",
    "import pandas as pd\n",
    "host = \"127.0.0.1\"          \n",
    "user = \"root\"      \n",
    "password = \"Sharath45\"  \n",
    "database = \"jorie_ohdsi\" \n",
    "def fetch_data_from_mysql( query):\n",
    "    try:\n",
    "        connection = mysql.connector.connect(\n",
    "            host=host,\n",
    "            user=user,\n",
    "            password=password,\n",
    "            database=database\n",
    "        )\n",
    "        \n",
    "        if connection.is_connected():\n",
    "            print(\"Connected to MySQL database\")\n",
    "\n",
    "            # Fetch data into a DataFrame\n",
    "            df = pd.read_sql(query, connection)\n",
    "\n",
    "            return df\n",
    "\n",
    "    except mysql.connector.Error as e:\n",
    "        print(f\"Error connecting to MySQL: {e}\")\n",
    "        return None\n",
    "\n",
    "    finally:\n",
    "        # Close the connection\n",
    "        if 'connection' in locals() and connection.is_connected():\n",
    "            connection.close()\n",
    "            print(\"MySQL connection closed\")\n",
    "\n",
    "\n"
   ]
  },
  {
   "cell_type": "code",
   "execution_count": 89,
   "metadata": {},
   "outputs": [
    {
     "name": "stdout",
     "output_type": "stream",
     "text": [
      "Connected to MySQL database\n",
      "MySQL connection closed\n"
     ]
    },
    {
     "name": "stderr",
     "output_type": "stream",
     "text": [
      "C:\\Users\\Pc\\AppData\\Local\\Temp\\ipykernel_9760\\4182301056.py:20: UserWarning: pandas only supports SQLAlchemy connectable (engine/connection) or database string URI or sqlite3 DBAPI2 connection. Other DBAPI2 objects are not tested. Please consider using SQLAlchemy.\n",
      "  df = pd.read_sql(query, connection)\n"
     ]
    }
   ],
   "source": [
    "query=\"\"\"select birth_datetime,ethnicity_source_value, race_source_value, person_id,\n",
    "       gender_source_value,location.address_1,location.zip from person \n",
    "       left join location\n",
    "       on location.location_id=person.person_id\n",
    "       \n",
    "\n",
    "\"\"\"\n",
    "person=fetch_data_from_mysql( query)"
   ]
  },
  {
   "cell_type": "code",
   "execution_count": 90,
   "metadata": {},
   "outputs": [
    {
     "name": "stdout",
     "output_type": "stream",
     "text": [
      "Connected to MySQL database\n",
      "MySQL connection closed\n"
     ]
    },
    {
     "name": "stderr",
     "output_type": "stream",
     "text": [
      "C:\\Users\\Pc\\AppData\\Local\\Temp\\ipykernel_9760\\4182301056.py:20: UserWarning: pandas only supports SQLAlchemy connectable (engine/connection) or database string URI or sqlite3 DBAPI2 connection. Other DBAPI2 objects are not tested. Please consider using SQLAlchemy.\n",
      "  df = pd.read_sql(query, connection)\n"
     ]
    }
   ],
   "source": [
    "observation=\"select * from observation\"\n",
    "observations=fetch_data_from_mysql( observation)\n",
    "pivoted_df = observations.pivot(index='person_id', columns='observation_type_concept_id', values='value_as_string')\n",
    "pivoted_df.reset_index(inplace=True)\n",
    "person=person.merge(pivoted_df,on=\"person_id\",how=\"left\")"
   ]
  },
  {
   "cell_type": "code",
   "execution_count": 91,
   "metadata": {},
   "outputs": [
    {
     "data": {
      "text/html": [
       "<div>\n",
       "<style scoped>\n",
       "    .dataframe tbody tr th:only-of-type {\n",
       "        vertical-align: middle;\n",
       "    }\n",
       "\n",
       "    .dataframe tbody tr th {\n",
       "        vertical-align: top;\n",
       "    }\n",
       "\n",
       "    .dataframe thead th {\n",
       "        text-align: right;\n",
       "    }\n",
       "</style>\n",
       "<table border=\"1\" class=\"dataframe\">\n",
       "  <thead>\n",
       "    <tr style=\"text-align: right;\">\n",
       "      <th></th>\n",
       "      <th>birth_datetime</th>\n",
       "      <th>ethnicity_source_value</th>\n",
       "      <th>race_source_value</th>\n",
       "      <th>person_id</th>\n",
       "      <th>gender_source_value</th>\n",
       "      <th>address_1</th>\n",
       "      <th>zip</th>\n",
       "      <th>Alcohol</th>\n",
       "      <th>Smoking</th>\n",
       "    </tr>\n",
       "  </thead>\n",
       "  <tbody>\n",
       "    <tr>\n",
       "      <th>0</th>\n",
       "      <td>*******</td>\n",
       "      <td>Not Hispanic or Latino</td>\n",
       "      <td>White or Caucasian</td>\n",
       "      <td>E223702</td>\n",
       "      <td>Female</td>\n",
       "      <td>3083 N GEORGIA ST</td>\n",
       "      <td>46760</td>\n",
       "      <td>Never</td>\n",
       "      <td>Never; Passive Exposure: Past</td>\n",
       "    </tr>\n",
       "    <tr>\n",
       "      <th>1</th>\n",
       "      <td>*******</td>\n",
       "      <td>Not Hispanic or Latino</td>\n",
       "      <td>White or Caucasian</td>\n",
       "      <td>E371944</td>\n",
       "      <td>Male</td>\n",
       "      <td>5858 N 600 E</td>\n",
       "      <td>46731</td>\n",
       "      <td>No</td>\n",
       "      <td>Former (Quit Date: 1/1/1980), 0 ppd, 0 pack-years</td>\n",
       "    </tr>\n",
       "    <tr>\n",
       "      <th>2</th>\n",
       "      <td>*******</td>\n",
       "      <td>Not Hispanic or Latino</td>\n",
       "      <td>White or Caucasian</td>\n",
       "      <td>E435319</td>\n",
       "      <td>Female</td>\n",
       "      <td>PO BOX 145</td>\n",
       "      <td>46974-0145</td>\n",
       "      <td>No</td>\n",
       "      <td>Never</td>\n",
       "    </tr>\n",
       "    <tr>\n",
       "      <th>3</th>\n",
       "      <td>*******</td>\n",
       "      <td>Not Hispanic or Latino</td>\n",
       "      <td>White or Caucasian</td>\n",
       "      <td>E475126</td>\n",
       "      <td>Female</td>\n",
       "      <td>1543 TALLGRASS TRL</td>\n",
       "      <td>46804</td>\n",
       "      <td>Not Currently</td>\n",
       "      <td>Never</td>\n",
       "    </tr>\n",
       "    <tr>\n",
       "      <th>4</th>\n",
       "      <td>*******</td>\n",
       "      <td>Not Hispanic or Latino</td>\n",
       "      <td>White or Caucasian</td>\n",
       "      <td>E494826</td>\n",
       "      <td>Male</td>\n",
       "      <td>6321 BENNINGTON DR</td>\n",
       "      <td>46815</td>\n",
       "      <td>Not Currently</td>\n",
       "      <td>Some Days, 0.25 ppd</td>\n",
       "    </tr>\n",
       "    <tr>\n",
       "      <th>...</th>\n",
       "      <td>...</td>\n",
       "      <td>...</td>\n",
       "      <td>...</td>\n",
       "      <td>...</td>\n",
       "      <td>...</td>\n",
       "      <td>...</td>\n",
       "      <td>...</td>\n",
       "      <td>...</td>\n",
       "      <td>...</td>\n",
       "    </tr>\n",
       "    <tr>\n",
       "      <th>2432</th>\n",
       "      <td>*******</td>\n",
       "      <td>Not Hispanic or Latino</td>\n",
       "      <td>White or Caucasian</td>\n",
       "      <td>E994516</td>\n",
       "      <td>Male</td>\n",
       "      <td>1861 GLENLAKE CT</td>\n",
       "      <td>60451</td>\n",
       "      <td>No</td>\n",
       "      <td>Former (Quit Date: 9/10/2009), 0 ppd, 17.5 pac...</td>\n",
       "    </tr>\n",
       "    <tr>\n",
       "      <th>2433</th>\n",
       "      <td>*******</td>\n",
       "      <td>Not Hispanic or Latino</td>\n",
       "      <td>White or Caucasian</td>\n",
       "      <td>E994965</td>\n",
       "      <td>Male</td>\n",
       "      <td>142 NORTH DRIVE</td>\n",
       "      <td>46740</td>\n",
       "      <td>Not Currently</td>\n",
       "      <td>Former (Quit Date: 2022), 0 ppd</td>\n",
       "    </tr>\n",
       "    <tr>\n",
       "      <th>2434</th>\n",
       "      <td>*******</td>\n",
       "      <td>Not Hispanic or Latino</td>\n",
       "      <td>White or Caucasian</td>\n",
       "      <td>E99509</td>\n",
       "      <td>Female</td>\n",
       "      <td>525 N BROADWAY ST</td>\n",
       "      <td>46721</td>\n",
       "      <td>No</td>\n",
       "      <td>Never</td>\n",
       "    </tr>\n",
       "    <tr>\n",
       "      <th>2435</th>\n",
       "      <td>*******</td>\n",
       "      <td>Not Hispanic or Latino</td>\n",
       "      <td>Patient Declined</td>\n",
       "      <td>E99554</td>\n",
       "      <td>Male</td>\n",
       "      <td>3425 NEW HAVEN AVE</td>\n",
       "      <td>46803</td>\n",
       "      <td>1.0 standard drink of alcohol/week</td>\n",
       "      <td>Every Day, 0 ppd, 10 pack-years</td>\n",
       "    </tr>\n",
       "    <tr>\n",
       "      <th>2436</th>\n",
       "      <td>*******</td>\n",
       "      <td>Not Hispanic or Latino</td>\n",
       "      <td>White or Caucasian</td>\n",
       "      <td>E99906</td>\n",
       "      <td>Female</td>\n",
       "      <td>2940 N CLINTON ST</td>\n",
       "      <td>46805</td>\n",
       "      <td>No</td>\n",
       "      <td>Never</td>\n",
       "    </tr>\n",
       "  </tbody>\n",
       "</table>\n",
       "<p>2437 rows × 9 columns</p>\n",
       "</div>"
      ],
      "text/plain": [
       "     birth_datetime  ethnicity_source_value   race_source_value person_id  \\\n",
       "0           *******  Not Hispanic or Latino  White or Caucasian   E223702   \n",
       "1           *******  Not Hispanic or Latino  White or Caucasian   E371944   \n",
       "2           *******  Not Hispanic or Latino  White or Caucasian   E435319   \n",
       "3           *******  Not Hispanic or Latino  White or Caucasian   E475126   \n",
       "4           *******  Not Hispanic or Latino  White or Caucasian   E494826   \n",
       "...             ...                     ...                 ...       ...   \n",
       "2432        *******  Not Hispanic or Latino  White or Caucasian   E994516   \n",
       "2433        *******  Not Hispanic or Latino  White or Caucasian   E994965   \n",
       "2434        *******  Not Hispanic or Latino  White or Caucasian    E99509   \n",
       "2435        *******  Not Hispanic or Latino    Patient Declined    E99554   \n",
       "2436        *******  Not Hispanic or Latino  White or Caucasian    E99906   \n",
       "\n",
       "     gender_source_value           address_1         zip  \\\n",
       "0                 Female   3083 N GEORGIA ST       46760   \n",
       "1                   Male        5858 N 600 E       46731   \n",
       "2                 Female          PO BOX 145  46974-0145   \n",
       "3                 Female  1543 TALLGRASS TRL       46804   \n",
       "4                   Male  6321 BENNINGTON DR       46815   \n",
       "...                  ...                 ...         ...   \n",
       "2432                Male    1861 GLENLAKE CT       60451   \n",
       "2433                Male     142 NORTH DRIVE       46740   \n",
       "2434              Female   525 N BROADWAY ST       46721   \n",
       "2435                Male  3425 NEW HAVEN AVE       46803   \n",
       "2436              Female   2940 N CLINTON ST       46805   \n",
       "\n",
       "                                 Alcohol  \\\n",
       "0                                  Never   \n",
       "1                                     No   \n",
       "2                                     No   \n",
       "3                          Not Currently   \n",
       "4                          Not Currently   \n",
       "...                                  ...   \n",
       "2432                                  No   \n",
       "2433                       Not Currently   \n",
       "2434                                  No   \n",
       "2435  1.0 standard drink of alcohol/week   \n",
       "2436                                  No   \n",
       "\n",
       "                                                Smoking  \n",
       "0                         Never; Passive Exposure: Past  \n",
       "1     Former (Quit Date: 1/1/1980), 0 ppd, 0 pack-years  \n",
       "2                                                 Never  \n",
       "3                                                 Never  \n",
       "4                                   Some Days, 0.25 ppd  \n",
       "...                                                 ...  \n",
       "2432  Former (Quit Date: 9/10/2009), 0 ppd, 17.5 pac...  \n",
       "2433                    Former (Quit Date: 2022), 0 ppd  \n",
       "2434                                              Never  \n",
       "2435                    Every Day, 0 ppd, 10 pack-years  \n",
       "2436                                              Never  \n",
       "\n",
       "[2437 rows x 9 columns]"
      ]
     },
     "execution_count": 91,
     "metadata": {},
     "output_type": "execute_result"
    }
   ],
   "source": [
    "person"
   ]
  },
  {
   "cell_type": "code",
   "execution_count": 92,
   "metadata": {},
   "outputs": [],
   "source": [
    "smoking_mapping=pd.read_excel(r\"..\\mappings\\Encounter_mapping.xlsx\",sheet_name=\"Smoking\")\n",
    "Alcohol_mapping=pd.read_excel(r\"..\\mappings\\Encounter_mapping.xlsx\",sheet_name=\"Alcohol\")\n"
   ]
  },
  {
   "cell_type": "code",
   "execution_count": 93,
   "metadata": {},
   "outputs": [],
   "source": [
    "person=person.merge(smoking_mapping,on=\"Smoking\",how=\"left\")\n",
    "\n",
    "person=person.drop(columns=\"Smoking\")\n",
    "person=person.rename(columns={\"Class\":\"Smoking\"})"
   ]
  },
  {
   "cell_type": "code",
   "execution_count": 94,
   "metadata": {},
   "outputs": [],
   "source": [
    "person=person.merge(Alcohol_mapping,on=\"Alcohol\",how=\"left\")\n",
    "person=person.drop(columns=\"Alcohol\")\n",
    "person=person.rename(columns={\"class\":\"Alcohol\"})"
   ]
  },
  {
   "cell_type": "code",
   "execution_count": 95,
   "metadata": {},
   "outputs": [
    {
     "data": {
      "text/html": [
       "<div>\n",
       "<style scoped>\n",
       "    .dataframe tbody tr th:only-of-type {\n",
       "        vertical-align: middle;\n",
       "    }\n",
       "\n",
       "    .dataframe tbody tr th {\n",
       "        vertical-align: top;\n",
       "    }\n",
       "\n",
       "    .dataframe thead th {\n",
       "        text-align: right;\n",
       "    }\n",
       "</style>\n",
       "<table border=\"1\" class=\"dataframe\">\n",
       "  <thead>\n",
       "    <tr style=\"text-align: right;\">\n",
       "      <th></th>\n",
       "      <th>birth_datetime</th>\n",
       "      <th>ethnicity_source_value</th>\n",
       "      <th>race_source_value</th>\n",
       "      <th>person_id</th>\n",
       "      <th>gender_source_value</th>\n",
       "      <th>address_1</th>\n",
       "      <th>zip</th>\n",
       "      <th>Smoking</th>\n",
       "      <th>Alcohol</th>\n",
       "    </tr>\n",
       "  </thead>\n",
       "  <tbody>\n",
       "    <tr>\n",
       "      <th>0</th>\n",
       "      <td>*******</td>\n",
       "      <td>Not Hispanic or Latino</td>\n",
       "      <td>White or Caucasian</td>\n",
       "      <td>E223702</td>\n",
       "      <td>Female</td>\n",
       "      <td>3083 N GEORGIA ST</td>\n",
       "      <td>46760</td>\n",
       "      <td>Former Smoker</td>\n",
       "      <td>Never Consumed</td>\n",
       "    </tr>\n",
       "    <tr>\n",
       "      <th>1</th>\n",
       "      <td>*******</td>\n",
       "      <td>Not Hispanic or Latino</td>\n",
       "      <td>White or Caucasian</td>\n",
       "      <td>E371944</td>\n",
       "      <td>Male</td>\n",
       "      <td>5858 N 600 E</td>\n",
       "      <td>46731</td>\n",
       "      <td>Former Smoker</td>\n",
       "      <td>Never Consumed</td>\n",
       "    </tr>\n",
       "    <tr>\n",
       "      <th>2</th>\n",
       "      <td>*******</td>\n",
       "      <td>Not Hispanic or Latino</td>\n",
       "      <td>White or Caucasian</td>\n",
       "      <td>E435319</td>\n",
       "      <td>Female</td>\n",
       "      <td>PO BOX 145</td>\n",
       "      <td>46974-0145</td>\n",
       "      <td>Never Smoked</td>\n",
       "      <td>Never Consumed</td>\n",
       "    </tr>\n",
       "    <tr>\n",
       "      <th>3</th>\n",
       "      <td>*******</td>\n",
       "      <td>Not Hispanic or Latino</td>\n",
       "      <td>White or Caucasian</td>\n",
       "      <td>E475126</td>\n",
       "      <td>Female</td>\n",
       "      <td>1543 TALLGRASS TRL</td>\n",
       "      <td>46804</td>\n",
       "      <td>Never Smoked</td>\n",
       "      <td>Former Drinker</td>\n",
       "    </tr>\n",
       "    <tr>\n",
       "      <th>4</th>\n",
       "      <td>*******</td>\n",
       "      <td>Not Hispanic or Latino</td>\n",
       "      <td>White or Caucasian</td>\n",
       "      <td>E494826</td>\n",
       "      <td>Male</td>\n",
       "      <td>6321 BENNINGTON DR</td>\n",
       "      <td>46815</td>\n",
       "      <td>Active Smoker</td>\n",
       "      <td>Former Drinker</td>\n",
       "    </tr>\n",
       "    <tr>\n",
       "      <th>...</th>\n",
       "      <td>...</td>\n",
       "      <td>...</td>\n",
       "      <td>...</td>\n",
       "      <td>...</td>\n",
       "      <td>...</td>\n",
       "      <td>...</td>\n",
       "      <td>...</td>\n",
       "      <td>...</td>\n",
       "      <td>...</td>\n",
       "    </tr>\n",
       "    <tr>\n",
       "      <th>2432</th>\n",
       "      <td>*******</td>\n",
       "      <td>Not Hispanic or Latino</td>\n",
       "      <td>White or Caucasian</td>\n",
       "      <td>E994516</td>\n",
       "      <td>Male</td>\n",
       "      <td>1861 GLENLAKE CT</td>\n",
       "      <td>60451</td>\n",
       "      <td>Former Smoker</td>\n",
       "      <td>Never Consumed</td>\n",
       "    </tr>\n",
       "    <tr>\n",
       "      <th>2433</th>\n",
       "      <td>*******</td>\n",
       "      <td>Not Hispanic or Latino</td>\n",
       "      <td>White or Caucasian</td>\n",
       "      <td>E994965</td>\n",
       "      <td>Male</td>\n",
       "      <td>142 NORTH DRIVE</td>\n",
       "      <td>46740</td>\n",
       "      <td>Former Smoker</td>\n",
       "      <td>Former Drinker</td>\n",
       "    </tr>\n",
       "    <tr>\n",
       "      <th>2434</th>\n",
       "      <td>*******</td>\n",
       "      <td>Not Hispanic or Latino</td>\n",
       "      <td>White or Caucasian</td>\n",
       "      <td>E99509</td>\n",
       "      <td>Female</td>\n",
       "      <td>525 N BROADWAY ST</td>\n",
       "      <td>46721</td>\n",
       "      <td>Never Smoked</td>\n",
       "      <td>Never Consumed</td>\n",
       "    </tr>\n",
       "    <tr>\n",
       "      <th>2435</th>\n",
       "      <td>*******</td>\n",
       "      <td>Not Hispanic or Latino</td>\n",
       "      <td>Patient Declined</td>\n",
       "      <td>E99554</td>\n",
       "      <td>Male</td>\n",
       "      <td>3425 NEW HAVEN AVE</td>\n",
       "      <td>46803</td>\n",
       "      <td>Active Smoker</td>\n",
       "      <td>Active Drinker</td>\n",
       "    </tr>\n",
       "    <tr>\n",
       "      <th>2436</th>\n",
       "      <td>*******</td>\n",
       "      <td>Not Hispanic or Latino</td>\n",
       "      <td>White or Caucasian</td>\n",
       "      <td>E99906</td>\n",
       "      <td>Female</td>\n",
       "      <td>2940 N CLINTON ST</td>\n",
       "      <td>46805</td>\n",
       "      <td>Never Smoked</td>\n",
       "      <td>Never Consumed</td>\n",
       "    </tr>\n",
       "  </tbody>\n",
       "</table>\n",
       "<p>2437 rows × 9 columns</p>\n",
       "</div>"
      ],
      "text/plain": [
       "     birth_datetime  ethnicity_source_value   race_source_value person_id  \\\n",
       "0           *******  Not Hispanic or Latino  White or Caucasian   E223702   \n",
       "1           *******  Not Hispanic or Latino  White or Caucasian   E371944   \n",
       "2           *******  Not Hispanic or Latino  White or Caucasian   E435319   \n",
       "3           *******  Not Hispanic or Latino  White or Caucasian   E475126   \n",
       "4           *******  Not Hispanic or Latino  White or Caucasian   E494826   \n",
       "...             ...                     ...                 ...       ...   \n",
       "2432        *******  Not Hispanic or Latino  White or Caucasian   E994516   \n",
       "2433        *******  Not Hispanic or Latino  White or Caucasian   E994965   \n",
       "2434        *******  Not Hispanic or Latino  White or Caucasian    E99509   \n",
       "2435        *******  Not Hispanic or Latino    Patient Declined    E99554   \n",
       "2436        *******  Not Hispanic or Latino  White or Caucasian    E99906   \n",
       "\n",
       "     gender_source_value           address_1         zip        Smoking  \\\n",
       "0                 Female   3083 N GEORGIA ST       46760  Former Smoker   \n",
       "1                   Male        5858 N 600 E       46731  Former Smoker   \n",
       "2                 Female          PO BOX 145  46974-0145   Never Smoked   \n",
       "3                 Female  1543 TALLGRASS TRL       46804   Never Smoked   \n",
       "4                   Male  6321 BENNINGTON DR       46815  Active Smoker   \n",
       "...                  ...                 ...         ...            ...   \n",
       "2432                Male    1861 GLENLAKE CT       60451  Former Smoker   \n",
       "2433                Male     142 NORTH DRIVE       46740  Former Smoker   \n",
       "2434              Female   525 N BROADWAY ST       46721   Never Smoked   \n",
       "2435                Male  3425 NEW HAVEN AVE       46803  Active Smoker   \n",
       "2436              Female   2940 N CLINTON ST       46805   Never Smoked   \n",
       "\n",
       "             Alcohol  \n",
       "0     Never Consumed  \n",
       "1     Never Consumed  \n",
       "2     Never Consumed  \n",
       "3     Former Drinker  \n",
       "4     Former Drinker  \n",
       "...              ...  \n",
       "2432  Never Consumed  \n",
       "2433  Former Drinker  \n",
       "2434  Never Consumed  \n",
       "2435  Active Drinker  \n",
       "2436  Never Consumed  \n",
       "\n",
       "[2437 rows x 9 columns]"
      ]
     },
     "execution_count": 95,
     "metadata": {},
     "output_type": "execute_result"
    }
   ],
   "source": [
    "person"
   ]
  },
  {
   "cell_type": "code",
   "execution_count": 96,
   "metadata": {},
   "outputs": [],
   "source": [
    "person['zip'] = person['zip'].str.split('-').str[0].astype(int)"
   ]
  },
  {
   "cell_type": "code",
   "execution_count": 97,
   "metadata": {},
   "outputs": [],
   "source": [
    "Location_mapping=pd.read_excel(r\"..\\mappings\\RUCA2010zipcode.xlsx\")\n"
   ]
  },
  {
   "cell_type": "code",
   "execution_count": 98,
   "metadata": {},
   "outputs": [],
   "source": [
    "person=person.merge(Location_mapping[[\"ZIP_CODE\",\"STATE\",\"Category\"]],left_on=\"zip\",right_on=\"ZIP_CODE\",how=\"left\")\n",
    "person=person.drop(columns=\"ZIP_CODE\")\n",
    "person=person.rename(columns={\"Category\":\"Location_area\"})"
   ]
  },
  {
   "cell_type": "markdown",
   "metadata": {},
   "source": []
  },
  {
   "cell_type": "code",
   "execution_count": 99,
   "metadata": {},
   "outputs": [
    {
     "name": "stdout",
     "output_type": "stream",
     "text": [
      "<class 'pandas.core.frame.DataFrame'>\n",
      "RangeIndex: 2437 entries, 0 to 2436\n",
      "Data columns (total 11 columns):\n",
      " #   Column                  Non-Null Count  Dtype \n",
      "---  ------                  --------------  ----- \n",
      " 0   birth_datetime          2437 non-null   object\n",
      " 1   ethnicity_source_value  2402 non-null   object\n",
      " 2   race_source_value       2404 non-null   object\n",
      " 3   person_id               2437 non-null   object\n",
      " 4   gender_source_value     2437 non-null   object\n",
      " 5   address_1               2437 non-null   object\n",
      " 6   zip                     2437 non-null   int64 \n",
      " 7   Smoking                 2367 non-null   object\n",
      " 8   Alcohol                 2330 non-null   object\n",
      " 9   STATE                   2437 non-null   object\n",
      " 10  Location_area           2437 non-null   object\n",
      "dtypes: int64(1), object(10)\n",
      "memory usage: 209.6+ KB\n"
     ]
    }
   ],
   "source": [
    "person.info()"
   ]
  },
  {
   "cell_type": "code",
   "execution_count": 100,
   "metadata": {},
   "outputs": [
    {
     "name": "stdout",
     "output_type": "stream",
     "text": [
      "Connected to MySQL database\n"
     ]
    },
    {
     "name": "stderr",
     "output_type": "stream",
     "text": [
      "C:\\Users\\Pc\\AppData\\Local\\Temp\\ipykernel_9760\\4182301056.py:20: UserWarning: pandas only supports SQLAlchemy connectable (engine/connection) or database string URI or sqlite3 DBAPI2 connection. Other DBAPI2 objects are not tested. Please consider using SQLAlchemy.\n",
      "  df = pd.read_sql(query, connection)\n"
     ]
    },
    {
     "name": "stdout",
     "output_type": "stream",
     "text": [
      "MySQL connection closed\n"
     ]
    }
   ],
   "source": [
    "encounters=\"\"\"SELECT \n",
    "    person_id, \n",
    "    `Encounter Type` AS encounter_type, \n",
    "    procedure_date AS encounter_date \n",
    "FROM \n",
    "    procedure_occurrence\n",
    "\n",
    "UNION ALL\n",
    "\n",
    "SELECT \n",
    "    person_id, \n",
    "    `Encounter Type` AS encounter_type, \n",
    "    condition_start_datetime AS encounter_date \n",
    "FROM \n",
    "    condition_occurrence\n",
    "\n",
    "UNION ALL\n",
    "\n",
    "SELECT \n",
    "    person_id, \n",
    "    visit_type_concept_id AS encounter_type, \n",
    "    visit_start_date AS encounter_date \n",
    "FROM \n",
    "    visit_occurrence;\n",
    "\"\"\"\n",
    "encounters=fetch_data_from_mysql( encounters)"
   ]
  },
  {
   "cell_type": "code",
   "execution_count": 101,
   "metadata": {},
   "outputs": [],
   "source": [
    "encounters['encounter_date'] = pd.to_datetime(encounters['encounter_date'], format='%m/%d/%Y')"
   ]
  },
  {
   "cell_type": "code",
   "execution_count": 102,
   "metadata": {},
   "outputs": [],
   "source": [
    "encounters_filtered=encounters[encounters[\"encounter_date\"]<=\"2024-11-27\"]"
   ]
  },
  {
   "cell_type": "code",
   "execution_count": 105,
   "metadata": {},
   "outputs": [],
   "source": [
    "# Getting the latest and earliest encounter date for each person\n",
    "index_date = encounters_filtered.groupby(['person_id'])['encounter_date'].max().reset_index(name='latest_encounter_date')\n",
    "earliest_date = encounters_filtered.groupby(['person_id'])['encounter_date'].min().reset_index(name='earliest_encounter_date')\n",
    "patient_dates = index_date.merge(earliest_date, on=\"person_id\", how=\"left\")\n"
   ]
  },
  {
   "cell_type": "code",
   "execution_count": 106,
   "metadata": {},
   "outputs": [
    {
     "data": {
      "text/plain": [
       "Timestamp('2004-04-16 00:00:00')"
      ]
     },
     "execution_count": 106,
     "metadata": {},
     "output_type": "execute_result"
    }
   ],
   "source": [
    "patient_dates[\"latest_encounter_date\"].min()\n",
    "patient_dates[\"earliest_encounter_date\"].min()\n"
   ]
  },
  {
   "cell_type": "markdown",
   "metadata": {},
   "source": [
    "Conditions"
   ]
  },
  {
   "cell_type": "code",
   "execution_count": 107,
   "metadata": {},
   "outputs": [],
   "source": [
    "Diabetes_type=pd.read_excel(r\"..\\mappings\\ICD10_diabetes_codes.xlsx\")"
   ]
  },
  {
   "cell_type": "code",
   "execution_count": 108,
   "metadata": {},
   "outputs": [
    {
     "name": "stdout",
     "output_type": "stream",
     "text": [
      "Connected to MySQL database\n"
     ]
    },
    {
     "name": "stderr",
     "output_type": "stream",
     "text": [
      "C:\\Users\\Pc\\AppData\\Local\\Temp\\ipykernel_9760\\4182301056.py:20: UserWarning: pandas only supports SQLAlchemy connectable (engine/connection) or database string URI or sqlite3 DBAPI2 connection. Other DBAPI2 objects are not tested. Please consider using SQLAlchemy.\n",
      "  df = pd.read_sql(query, connection)\n"
     ]
    },
    {
     "name": "stdout",
     "output_type": "stream",
     "text": [
      "MySQL connection closed\n"
     ]
    }
   ],
   "source": [
    "conditions=\"\"\"select * from condition_occurrence\n",
    "\"\"\"\n",
    "conditions=fetch_data_from_mysql( conditions)"
   ]
  },
  {
   "cell_type": "code",
   "execution_count": 109,
   "metadata": {},
   "outputs": [],
   "source": [
    "conditions_patinet_level=conditions[[\"person_id\",\"condition_type_concept_id\"]].drop_duplicates()"
   ]
  },
  {
   "cell_type": "code",
   "execution_count": 110,
   "metadata": {},
   "outputs": [
    {
     "data": {
      "text/html": [
       "<div>\n",
       "<style scoped>\n",
       "    .dataframe tbody tr th:only-of-type {\n",
       "        vertical-align: middle;\n",
       "    }\n",
       "\n",
       "    .dataframe tbody tr th {\n",
       "        vertical-align: top;\n",
       "    }\n",
       "\n",
       "    .dataframe thead th {\n",
       "        text-align: right;\n",
       "    }\n",
       "</style>\n",
       "<table border=\"1\" class=\"dataframe\">\n",
       "  <thead>\n",
       "    <tr style=\"text-align: right;\">\n",
       "      <th></th>\n",
       "      <th>person_id</th>\n",
       "      <th>condition_type_concept_id</th>\n",
       "    </tr>\n",
       "  </thead>\n",
       "  <tbody>\n",
       "    <tr>\n",
       "      <th>0</th>\n",
       "      <td>E379593</td>\n",
       "      <td>None</td>\n",
       "    </tr>\n",
       "    <tr>\n",
       "      <th>2</th>\n",
       "      <td>E509556</td>\n",
       "      <td>None</td>\n",
       "    </tr>\n",
       "    <tr>\n",
       "      <th>14</th>\n",
       "      <td>E509556</td>\n",
       "      <td>M48.061</td>\n",
       "    </tr>\n",
       "    <tr>\n",
       "      <th>32</th>\n",
       "      <td>E1130335</td>\n",
       "      <td>None</td>\n",
       "    </tr>\n",
       "    <tr>\n",
       "      <th>62</th>\n",
       "      <td>E522307</td>\n",
       "      <td>None</td>\n",
       "    </tr>\n",
       "    <tr>\n",
       "      <th>...</th>\n",
       "      <td>...</td>\n",
       "      <td>...</td>\n",
       "    </tr>\n",
       "    <tr>\n",
       "      <th>398093</th>\n",
       "      <td>E1681969</td>\n",
       "      <td>E11.9</td>\n",
       "    </tr>\n",
       "    <tr>\n",
       "      <th>398239</th>\n",
       "      <td>E692445</td>\n",
       "      <td>T84.84XA</td>\n",
       "    </tr>\n",
       "    <tr>\n",
       "      <th>398240</th>\n",
       "      <td>E692445</td>\n",
       "      <td>E11.9</td>\n",
       "    </tr>\n",
       "    <tr>\n",
       "      <th>398299</th>\n",
       "      <td>E2084796</td>\n",
       "      <td>E11.9</td>\n",
       "    </tr>\n",
       "    <tr>\n",
       "      <th>398300</th>\n",
       "      <td>E2084796</td>\n",
       "      <td>Z79.4</td>\n",
       "    </tr>\n",
       "  </tbody>\n",
       "</table>\n",
       "<p>14107 rows × 2 columns</p>\n",
       "</div>"
      ],
      "text/plain": [
       "       person_id condition_type_concept_id\n",
       "0        E379593                      None\n",
       "2        E509556                      None\n",
       "14       E509556                   M48.061\n",
       "32      E1130335                      None\n",
       "62       E522307                      None\n",
       "...          ...                       ...\n",
       "398093  E1681969                     E11.9\n",
       "398239   E692445                  T84.84XA\n",
       "398240   E692445                     E11.9\n",
       "398299  E2084796                     E11.9\n",
       "398300  E2084796                     Z79.4\n",
       "\n",
       "[14107 rows x 2 columns]"
      ]
     },
     "execution_count": 110,
     "metadata": {},
     "output_type": "execute_result"
    }
   ],
   "source": [
    "conditions_patinet_level"
   ]
  },
  {
   "cell_type": "code",
   "execution_count": 111,
   "metadata": {},
   "outputs": [
    {
     "data": {
      "text/plain": [
       "condition_type_concept_id\n",
       "E11.9       1042\n",
       "Z79.4        486\n",
       "E66.01       365\n",
       "I73.9        311\n",
       "E11.42       230\n",
       "            ... \n",
       "E08.9          1\n",
       "T87.43         1\n",
       "S12.200A       1\n",
       "C13.9          1\n",
       "E11.3219       1\n",
       "Name: count, Length: 1531, dtype: int64"
      ]
     },
     "execution_count": 111,
     "metadata": {},
     "output_type": "execute_result"
    }
   ],
   "source": [
    "conditions_patinet_level[\"condition_type_concept_id\"].value_counts()"
   ]
  },
  {
   "cell_type": "code",
   "execution_count": 112,
   "metadata": {},
   "outputs": [],
   "source": [
    "diabtetic_patients=conditions[conditions[\"condition_type_concept_id\"].isin(Diabetes_type[\"ICD_10\"].unique())]\n",
    "\n"
   ]
  },
  {
   "cell_type": "code",
   "execution_count": 113,
   "metadata": {},
   "outputs": [
    {
     "name": "stderr",
     "output_type": "stream",
     "text": [
      "C:\\Users\\Pc\\AppData\\Local\\Temp\\ipykernel_9760\\201268862.py:1: SettingWithCopyWarning: \n",
      "A value is trying to be set on a copy of a slice from a DataFrame.\n",
      "Try using .loc[row_indexer,col_indexer] = value instead\n",
      "\n",
      "See the caveats in the documentation: https://pandas.pydata.org/pandas-docs/stable/user_guide/indexing.html#returning-a-view-versus-a-copy\n",
      "  diabtetic_patients[\"condition_start_datetime\"]=pd.to_datetime(diabtetic_patients[\"condition_start_datetime\"])\n"
     ]
    }
   ],
   "source": [
    "diabtetic_patients[\"condition_start_datetime\"]=pd.to_datetime(diabtetic_patients[\"condition_start_datetime\"])\n",
    "Diabetic_encounter_date=diabtetic_patients.groupby(['person_id'])['condition_start_datetime'].min().reset_index(name='Diabetes_encounter_date')"
   ]
  },
  {
   "cell_type": "code",
   "execution_count": 114,
   "metadata": {},
   "outputs": [],
   "source": [
    "\n",
    "patient_dates=patient_dates.merge(Diabetic_encounter_date,on=\"person_id\",how=\"left\")\n"
   ]
  },
  {
   "cell_type": "code",
   "execution_count": 115,
   "metadata": {},
   "outputs": [
    {
     "data": {
      "text/html": [
       "<div>\n",
       "<style scoped>\n",
       "    .dataframe tbody tr th:only-of-type {\n",
       "        vertical-align: middle;\n",
       "    }\n",
       "\n",
       "    .dataframe tbody tr th {\n",
       "        vertical-align: top;\n",
       "    }\n",
       "\n",
       "    .dataframe thead th {\n",
       "        text-align: right;\n",
       "    }\n",
       "</style>\n",
       "<table border=\"1\" class=\"dataframe\">\n",
       "  <thead>\n",
       "    <tr style=\"text-align: right;\">\n",
       "      <th></th>\n",
       "      <th>person_id</th>\n",
       "      <th>latest_encounter_date</th>\n",
       "      <th>earliest_encounter_date</th>\n",
       "      <th>Diabetes_encounter_date</th>\n",
       "    </tr>\n",
       "  </thead>\n",
       "  <tbody>\n",
       "    <tr>\n",
       "      <th>0</th>\n",
       "      <td>E1000022</td>\n",
       "      <td>2024-11-12</td>\n",
       "      <td>2024-08-04</td>\n",
       "      <td>NaT</td>\n",
       "    </tr>\n",
       "    <tr>\n",
       "      <th>1</th>\n",
       "      <td>E100202</td>\n",
       "      <td>2020-04-29</td>\n",
       "      <td>2017-09-10</td>\n",
       "      <td>2017-09-10</td>\n",
       "    </tr>\n",
       "    <tr>\n",
       "      <th>2</th>\n",
       "      <td>E1003429</td>\n",
       "      <td>2024-11-12</td>\n",
       "      <td>2024-05-22</td>\n",
       "      <td>2024-05-22</td>\n",
       "    </tr>\n",
       "    <tr>\n",
       "      <th>3</th>\n",
       "      <td>E1004123</td>\n",
       "      <td>2019-11-27</td>\n",
       "      <td>2018-10-03</td>\n",
       "      <td>2018-10-03</td>\n",
       "    </tr>\n",
       "    <tr>\n",
       "      <th>4</th>\n",
       "      <td>E1004509</td>\n",
       "      <td>2023-08-17</td>\n",
       "      <td>2011-02-04</td>\n",
       "      <td>2011-02-04</td>\n",
       "    </tr>\n",
       "    <tr>\n",
       "      <th>...</th>\n",
       "      <td>...</td>\n",
       "      <td>...</td>\n",
       "      <td>...</td>\n",
       "      <td>...</td>\n",
       "    </tr>\n",
       "    <tr>\n",
       "      <th>2396</th>\n",
       "      <td>E994516</td>\n",
       "      <td>2023-03-14</td>\n",
       "      <td>2021-06-22</td>\n",
       "      <td>2021-06-22</td>\n",
       "    </tr>\n",
       "    <tr>\n",
       "      <th>2397</th>\n",
       "      <td>E994965</td>\n",
       "      <td>2024-11-18</td>\n",
       "      <td>2024-04-23</td>\n",
       "      <td>2024-04-23</td>\n",
       "    </tr>\n",
       "    <tr>\n",
       "      <th>2398</th>\n",
       "      <td>E99509</td>\n",
       "      <td>2024-10-21</td>\n",
       "      <td>2020-09-11</td>\n",
       "      <td>2020-09-11</td>\n",
       "    </tr>\n",
       "    <tr>\n",
       "      <th>2399</th>\n",
       "      <td>E99554</td>\n",
       "      <td>2024-11-01</td>\n",
       "      <td>2024-07-25</td>\n",
       "      <td>2024-07-25</td>\n",
       "    </tr>\n",
       "    <tr>\n",
       "      <th>2400</th>\n",
       "      <td>E99906</td>\n",
       "      <td>2023-09-15</td>\n",
       "      <td>2023-01-26</td>\n",
       "      <td>2023-01-26</td>\n",
       "    </tr>\n",
       "  </tbody>\n",
       "</table>\n",
       "<p>2401 rows × 4 columns</p>\n",
       "</div>"
      ],
      "text/plain": [
       "     person_id latest_encounter_date earliest_encounter_date  \\\n",
       "0     E1000022            2024-11-12              2024-08-04   \n",
       "1      E100202            2020-04-29              2017-09-10   \n",
       "2     E1003429            2024-11-12              2024-05-22   \n",
       "3     E1004123            2019-11-27              2018-10-03   \n",
       "4     E1004509            2023-08-17              2011-02-04   \n",
       "...        ...                   ...                     ...   \n",
       "2396   E994516            2023-03-14              2021-06-22   \n",
       "2397   E994965            2024-11-18              2024-04-23   \n",
       "2398    E99509            2024-10-21              2020-09-11   \n",
       "2399    E99554            2024-11-01              2024-07-25   \n",
       "2400    E99906            2023-09-15              2023-01-26   \n",
       "\n",
       "     Diabetes_encounter_date  \n",
       "0                        NaT  \n",
       "1                 2017-09-10  \n",
       "2                 2024-05-22  \n",
       "3                 2018-10-03  \n",
       "4                 2011-02-04  \n",
       "...                      ...  \n",
       "2396              2021-06-22  \n",
       "2397              2024-04-23  \n",
       "2398              2020-09-11  \n",
       "2399              2024-07-25  \n",
       "2400              2023-01-26  \n",
       "\n",
       "[2401 rows x 4 columns]"
      ]
     },
     "execution_count": 115,
     "metadata": {},
     "output_type": "execute_result"
    }
   ],
   "source": [
    "patient_dates"
   ]
  },
  {
   "cell_type": "code",
   "execution_count": 116,
   "metadata": {},
   "outputs": [],
   "source": [
    "diabtetic_patients=diabtetic_patients.merge(Diabetes_type,left_on=\"condition_type_concept_id\",right_on=\"ICD_10\",how=\"left\")"
   ]
  },
  {
   "cell_type": "code",
   "execution_count": 118,
   "metadata": {},
   "outputs": [
    {
     "data": {
      "text/plain": [
       "array(['Type-2', 'Other specified diabetes mellitus',\n",
       "       'DM due to underlying condition', 'Type-1',\n",
       "       'Drug or Chemical-Induced Diabetes Mellitus'], dtype=object)"
      ]
     },
     "execution_count": 118,
     "metadata": {},
     "output_type": "execute_result"
    }
   ],
   "source": [
    "diabtetic_patients[\"Type\"].unique()"
   ]
  },
  {
   "cell_type": "code",
   "execution_count": 119,
   "metadata": {},
   "outputs": [
    {
     "data": {
      "text/html": [
       "<div>\n",
       "<style scoped>\n",
       "    .dataframe tbody tr th:only-of-type {\n",
       "        vertical-align: middle;\n",
       "    }\n",
       "\n",
       "    .dataframe tbody tr th {\n",
       "        vertical-align: top;\n",
       "    }\n",
       "\n",
       "    .dataframe thead th {\n",
       "        text-align: right;\n",
       "    }\n",
       "</style>\n",
       "<table border=\"1\" class=\"dataframe\">\n",
       "  <thead>\n",
       "    <tr style=\"text-align: right;\">\n",
       "      <th></th>\n",
       "      <th>birth_datetime</th>\n",
       "      <th>ethnicity_source_value</th>\n",
       "      <th>race_source_value</th>\n",
       "      <th>person_id</th>\n",
       "      <th>gender_source_value</th>\n",
       "      <th>address_1</th>\n",
       "      <th>zip</th>\n",
       "      <th>Smoking</th>\n",
       "      <th>Alcohol</th>\n",
       "      <th>STATE</th>\n",
       "      <th>Location_area</th>\n",
       "    </tr>\n",
       "  </thead>\n",
       "  <tbody>\n",
       "    <tr>\n",
       "      <th>0</th>\n",
       "      <td>*******</td>\n",
       "      <td>Not Hispanic or Latino</td>\n",
       "      <td>White or Caucasian</td>\n",
       "      <td>E223702</td>\n",
       "      <td>Female</td>\n",
       "      <td>3083 N GEORGIA ST</td>\n",
       "      <td>46760</td>\n",
       "      <td>Former Smoker</td>\n",
       "      <td>Never Consumed</td>\n",
       "      <td>IN</td>\n",
       "      <td>small town</td>\n",
       "    </tr>\n",
       "    <tr>\n",
       "      <th>1</th>\n",
       "      <td>*******</td>\n",
       "      <td>Not Hispanic or Latino</td>\n",
       "      <td>White or Caucasian</td>\n",
       "      <td>E371944</td>\n",
       "      <td>Male</td>\n",
       "      <td>5858 N 600 E</td>\n",
       "      <td>46731</td>\n",
       "      <td>Former Smoker</td>\n",
       "      <td>Never Consumed</td>\n",
       "      <td>IN</td>\n",
       "      <td>small town</td>\n",
       "    </tr>\n",
       "    <tr>\n",
       "      <th>2</th>\n",
       "      <td>*******</td>\n",
       "      <td>Not Hispanic or Latino</td>\n",
       "      <td>White or Caucasian</td>\n",
       "      <td>E435319</td>\n",
       "      <td>Female</td>\n",
       "      <td>PO BOX 145</td>\n",
       "      <td>46974</td>\n",
       "      <td>Never Smoked</td>\n",
       "      <td>Never Consumed</td>\n",
       "      <td>IN</td>\n",
       "      <td>Micropolitan</td>\n",
       "    </tr>\n",
       "    <tr>\n",
       "      <th>3</th>\n",
       "      <td>*******</td>\n",
       "      <td>Not Hispanic or Latino</td>\n",
       "      <td>White or Caucasian</td>\n",
       "      <td>E475126</td>\n",
       "      <td>Female</td>\n",
       "      <td>1543 TALLGRASS TRL</td>\n",
       "      <td>46804</td>\n",
       "      <td>Never Smoked</td>\n",
       "      <td>Former Drinker</td>\n",
       "      <td>IN</td>\n",
       "      <td>Metropolitan</td>\n",
       "    </tr>\n",
       "    <tr>\n",
       "      <th>4</th>\n",
       "      <td>*******</td>\n",
       "      <td>Not Hispanic or Latino</td>\n",
       "      <td>White or Caucasian</td>\n",
       "      <td>E494826</td>\n",
       "      <td>Male</td>\n",
       "      <td>6321 BENNINGTON DR</td>\n",
       "      <td>46815</td>\n",
       "      <td>Active Smoker</td>\n",
       "      <td>Former Drinker</td>\n",
       "      <td>IN</td>\n",
       "      <td>Metropolitan</td>\n",
       "    </tr>\n",
       "    <tr>\n",
       "      <th>...</th>\n",
       "      <td>...</td>\n",
       "      <td>...</td>\n",
       "      <td>...</td>\n",
       "      <td>...</td>\n",
       "      <td>...</td>\n",
       "      <td>...</td>\n",
       "      <td>...</td>\n",
       "      <td>...</td>\n",
       "      <td>...</td>\n",
       "      <td>...</td>\n",
       "      <td>...</td>\n",
       "    </tr>\n",
       "    <tr>\n",
       "      <th>2432</th>\n",
       "      <td>*******</td>\n",
       "      <td>Not Hispanic or Latino</td>\n",
       "      <td>White or Caucasian</td>\n",
       "      <td>E994516</td>\n",
       "      <td>Male</td>\n",
       "      <td>1861 GLENLAKE CT</td>\n",
       "      <td>60451</td>\n",
       "      <td>Former Smoker</td>\n",
       "      <td>Never Consumed</td>\n",
       "      <td>IL</td>\n",
       "      <td>Metropolitan</td>\n",
       "    </tr>\n",
       "    <tr>\n",
       "      <th>2433</th>\n",
       "      <td>*******</td>\n",
       "      <td>Not Hispanic or Latino</td>\n",
       "      <td>White or Caucasian</td>\n",
       "      <td>E994965</td>\n",
       "      <td>Male</td>\n",
       "      <td>142 NORTH DRIVE</td>\n",
       "      <td>46740</td>\n",
       "      <td>Former Smoker</td>\n",
       "      <td>Former Drinker</td>\n",
       "      <td>IN</td>\n",
       "      <td>small town</td>\n",
       "    </tr>\n",
       "    <tr>\n",
       "      <th>2434</th>\n",
       "      <td>*******</td>\n",
       "      <td>Not Hispanic or Latino</td>\n",
       "      <td>White or Caucasian</td>\n",
       "      <td>E99509</td>\n",
       "      <td>Female</td>\n",
       "      <td>525 N BROADWAY ST</td>\n",
       "      <td>46721</td>\n",
       "      <td>Never Smoked</td>\n",
       "      <td>Never Consumed</td>\n",
       "      <td>IN</td>\n",
       "      <td>small town</td>\n",
       "    </tr>\n",
       "    <tr>\n",
       "      <th>2435</th>\n",
       "      <td>*******</td>\n",
       "      <td>Not Hispanic or Latino</td>\n",
       "      <td>Patient Declined</td>\n",
       "      <td>E99554</td>\n",
       "      <td>Male</td>\n",
       "      <td>3425 NEW HAVEN AVE</td>\n",
       "      <td>46803</td>\n",
       "      <td>Active Smoker</td>\n",
       "      <td>Active Drinker</td>\n",
       "      <td>IN</td>\n",
       "      <td>Metropolitan</td>\n",
       "    </tr>\n",
       "    <tr>\n",
       "      <th>2436</th>\n",
       "      <td>*******</td>\n",
       "      <td>Not Hispanic or Latino</td>\n",
       "      <td>White or Caucasian</td>\n",
       "      <td>E99906</td>\n",
       "      <td>Female</td>\n",
       "      <td>2940 N CLINTON ST</td>\n",
       "      <td>46805</td>\n",
       "      <td>Never Smoked</td>\n",
       "      <td>Never Consumed</td>\n",
       "      <td>IN</td>\n",
       "      <td>Metropolitan</td>\n",
       "    </tr>\n",
       "  </tbody>\n",
       "</table>\n",
       "<p>2437 rows × 11 columns</p>\n",
       "</div>"
      ],
      "text/plain": [
       "     birth_datetime  ethnicity_source_value   race_source_value person_id  \\\n",
       "0           *******  Not Hispanic or Latino  White or Caucasian   E223702   \n",
       "1           *******  Not Hispanic or Latino  White or Caucasian   E371944   \n",
       "2           *******  Not Hispanic or Latino  White or Caucasian   E435319   \n",
       "3           *******  Not Hispanic or Latino  White or Caucasian   E475126   \n",
       "4           *******  Not Hispanic or Latino  White or Caucasian   E494826   \n",
       "...             ...                     ...                 ...       ...   \n",
       "2432        *******  Not Hispanic or Latino  White or Caucasian   E994516   \n",
       "2433        *******  Not Hispanic or Latino  White or Caucasian   E994965   \n",
       "2434        *******  Not Hispanic or Latino  White or Caucasian    E99509   \n",
       "2435        *******  Not Hispanic or Latino    Patient Declined    E99554   \n",
       "2436        *******  Not Hispanic or Latino  White or Caucasian    E99906   \n",
       "\n",
       "     gender_source_value           address_1    zip        Smoking  \\\n",
       "0                 Female   3083 N GEORGIA ST  46760  Former Smoker   \n",
       "1                   Male        5858 N 600 E  46731  Former Smoker   \n",
       "2                 Female          PO BOX 145  46974   Never Smoked   \n",
       "3                 Female  1543 TALLGRASS TRL  46804   Never Smoked   \n",
       "4                   Male  6321 BENNINGTON DR  46815  Active Smoker   \n",
       "...                  ...                 ...    ...            ...   \n",
       "2432                Male    1861 GLENLAKE CT  60451  Former Smoker   \n",
       "2433                Male     142 NORTH DRIVE  46740  Former Smoker   \n",
       "2434              Female   525 N BROADWAY ST  46721   Never Smoked   \n",
       "2435                Male  3425 NEW HAVEN AVE  46803  Active Smoker   \n",
       "2436              Female   2940 N CLINTON ST  46805   Never Smoked   \n",
       "\n",
       "             Alcohol STATE Location_area  \n",
       "0     Never Consumed    IN    small town  \n",
       "1     Never Consumed    IN    small town  \n",
       "2     Never Consumed    IN  Micropolitan  \n",
       "3     Former Drinker    IN  Metropolitan  \n",
       "4     Former Drinker    IN  Metropolitan  \n",
       "...              ...   ...           ...  \n",
       "2432  Never Consumed    IL  Metropolitan  \n",
       "2433  Former Drinker    IN    small town  \n",
       "2434  Never Consumed    IN    small town  \n",
       "2435  Active Drinker    IN  Metropolitan  \n",
       "2436  Never Consumed    IN  Metropolitan  \n",
       "\n",
       "[2437 rows x 11 columns]"
      ]
     },
     "execution_count": 119,
     "metadata": {},
     "output_type": "execute_result"
    }
   ],
   "source": [
    "person"
   ]
  },
  {
   "cell_type": "code",
   "execution_count": 120,
   "metadata": {},
   "outputs": [],
   "source": [
    "import numpy as np\n",
    "\n",
    "# Loop through each unique \"Type\" in the Diabetes_type dataframe\n",
    "for diabetes_type in Diabetes_type[\"Type\"].unique():\n",
    "    # Filter the Diabetes_type dataframe for the current diabetes type\n",
    "    current_type_df = Diabetes_type[Diabetes_type[\"Type\"] == diabetes_type]\n",
    "    \n",
    "    # Filter the diabetic_patients dataframe for the ICD_10 codes matching the current type\n",
    "    current_type_patients = diabtetic_patients[diabtetic_patients[\"ICD_10\"].isin(current_type_df[\"ICD_10\"])]\n",
    "    \n",
    "    # Create a new column for the specific diabetes type in the person dataframe\n",
    "    person[diabetes_type] = np.where(person[\"person_id\"].isin(current_type_patients[\"person_id\"]), 1, 0)\n"
   ]
  },
  {
   "cell_type": "code",
   "execution_count": 122,
   "metadata": {},
   "outputs": [
    {
     "name": "stderr",
     "output_type": "stream",
     "text": [
      "<>:1: SyntaxWarning: invalid escape sequence '\\m'\n",
      "<>:1: SyntaxWarning: invalid escape sequence '\\m'\n",
      "C:\\Users\\Pc\\AppData\\Local\\Temp\\ipykernel_9760\\2090531556.py:1: SyntaxWarning: invalid escape sequence '\\m'\n",
      "  Comorbidities=pd.read_excel(\"..\\mappings\\ICD_CCI_CODES.xlsx\")\n"
     ]
    },
    {
     "data": {
      "text/plain": [
       "Index(['ICD_Code', 'ICD_Description', 'Category'], dtype='object')"
      ]
     },
     "execution_count": 122,
     "metadata": {},
     "output_type": "execute_result"
    }
   ],
   "source": [
    "Comorbidities=pd.read_excel(\"..\\mappings\\ICD_CCI_CODES.xlsx\")\n",
    "Comorbidities.columns"
   ]
  },
  {
   "cell_type": "code",
   "execution_count": 124,
   "metadata": {},
   "outputs": [
    {
     "name": "stdout",
     "output_type": "stream",
     "text": [
      "LIVER_MILD 11 322\n",
      "LIVER 8 242\n",
      "AIDS 3 116\n",
      "MALIG 129 4196\n",
      "METAS 8 300\n",
      "DIAB_CHRO 92 2649\n",
      "DEMENTIA 20 562\n",
      "CEREBRO 104 3520\n",
      "HEMIP 0 0\n",
      "CHF 69 2181\n",
      "RENAL 138 5317\n",
      "MYOC 74 2217\n",
      "PVD 329 10087\n",
      "COPD 272 8264\n",
      "PEPTIC 2 2\n",
      "RHEUM 47 1455\n"
     ]
    }
   ],
   "source": [
    "\n",
    "# Loop through unique values in the 'Column Name/Label' column of the Comorbidities table\n",
    "for i in Comorbidities['Category'].unique():\n",
    "    # Get codes for i from 'Concept Code' column in Comorbidities table\n",
    "    codes = Comorbidities[Comorbidities['Category'] == i]['ICD_Code'].unique()\n",
    "    \n",
    "    # Filter the Conditions table based on the retrieved codes\n",
    "    filtered_conditions = conditions[conditions['condition_type_concept_id'].isin(codes)]\n",
    "    \n",
    "    # Get the unique list of patient IDs from the filtered Conditions table\n",
    "    unique_patients = filtered_conditions['person_id'].unique()\n",
    "    \n",
    "    # Create a new column in Patients_transformed with the same name as i\n",
    "    # Set the value to 1 if the patient ID is in the unique_patients list, otherwise set it to 0\n",
    "    person[i] = person['person_id'].apply(lambda x: 1 if x in unique_patients else 0)\n",
    "    print(i,len(unique_patients),len(filtered_conditions))"
   ]
  },
  {
   "cell_type": "code",
   "execution_count": 129,
   "metadata": {},
   "outputs": [
    {
     "name": "stdout",
     "output_type": "stream",
     "text": [
      "Connected to MySQL database\n",
      "MySQL connection closed\n"
     ]
    },
    {
     "name": "stderr",
     "output_type": "stream",
     "text": [
      "C:\\Users\\Pc\\AppData\\Local\\Temp\\ipykernel_9760\\4182301056.py:20: UserWarning: pandas only supports SQLAlchemy connectable (engine/connection) or database string URI or sqlite3 DBAPI2 connection. Other DBAPI2 objects are not tested. Please consider using SQLAlchemy.\n",
      "  df = pd.read_sql(query, connection)\n"
     ]
    }
   ],
   "source": [
    "visit_occurence=\"\"\"select * from visit_occurrence\n",
    "\"\"\"\n",
    "visit_occurence=fetch_data_from_mysql( visit_occurence)"
   ]
  },
  {
   "cell_type": "code",
   "execution_count": 130,
   "metadata": {},
   "outputs": [],
   "source": [
    "visit_occurence[\"visit_start_datetime\"]=pd.to_datetime(visit_occurence[\"visit_start_datetime\"])"
   ]
  },
  {
   "cell_type": "code",
   "execution_count": 131,
   "metadata": {},
   "outputs": [],
   "source": [
    "visits_filtered=visit_occurence[visit_occurence[\"visit_start_datetime\"]<=\"2024-11-27\"]"
   ]
  },
  {
   "cell_type": "code",
   "execution_count": 132,
   "metadata": {},
   "outputs": [],
   "source": [
    "visits_filtered=visits_filtered.merge(patient_dates[['person_id', 'latest_encounter_date']],on=\"person_id\",how=\"left\")"
   ]
  },
  {
   "cell_type": "code",
   "execution_count": 133,
   "metadata": {},
   "outputs": [],
   "source": [
    "visits_filtered[\"Days\"]=(visits_filtered[\"latest_encounter_date\"]-visits_filtered[\"visit_start_datetime\"]).dt.days"
   ]
  },
  {
   "cell_type": "code",
   "execution_count": 135,
   "metadata": {},
   "outputs": [],
   "source": [
    "visits_filtered['visit_type_concept_id'] = visits_filtered['visit_type_concept_id'].replace({\n",
    "    'Admission (Discharged)': 'IP',\n",
    "    'Office Visit': 'OP'\n",
    "})\n"
   ]
  },
  {
   "cell_type": "code",
   "execution_count": 136,
   "metadata": {},
   "outputs": [
    {
     "data": {
      "text/plain": [
       "array(['IP', 'ED', 'OP', 'Surgery'], dtype=object)"
      ]
     },
     "execution_count": 136,
     "metadata": {},
     "output_type": "execute_result"
    }
   ],
   "source": [
    "visits_filtered['visit_type_concept_id'].unique()"
   ]
  },
  {
   "cell_type": "code",
   "execution_count": 138,
   "metadata": {},
   "outputs": [],
   "source": [
    "# List of encounter types to process\n",
    "encounter_types = visits_filtered[\"visit_type_concept_id\"].unique()\n",
    "\n",
    "# Initialize the merged dataframe (assuming 'person' is your base DataFrame)\n",
    "for encounter_type in encounter_types:\n",
    "    # Filter data for the current encounter type\n",
    "    encounter_data = visits_filtered[visits_filtered[\"visit_type_concept_id\"] == encounter_type]\n",
    "    \n",
    "    # Iterate over the different time periods (30 and 365 days)\n",
    "    for days in [30, 365]:\n",
    "        # Filter for the specific time window\n",
    "        encounter_data_filtered = encounter_data[(encounter_data[\"Days\"] >= 0) & (encounter_data[\"Days\"] <= days)]\n",
    "        \n",
    "        # Group by 'person_id' and count unique visit start datetimes\n",
    "        encounter_data_grouped = encounter_data_filtered.groupby('person_id')['visit_start_datetime'].nunique().reset_index()\n",
    "        \n",
    "        # Create a proper column name without extra characters\n",
    "        column_name = f\"{encounter_type.replace(' ', '_')}_{days}\"\n",
    "        \n",
    "        # Rename the column to reflect the encounter type and time period\n",
    "        encounter_data_grouped = encounter_data_grouped.rename(columns={\"visit_start_datetime\": column_name})\n",
    "        \n",
    "        # Merge the results into the 'person' dataframe\n",
    "        person = person.merge(encounter_data_grouped[['person_id', column_name]], \n",
    "                              on='person_id', how='left')\n"
   ]
  },
  {
   "cell_type": "code",
   "execution_count": 139,
   "metadata": {},
   "outputs": [
    {
     "data": {
      "text/plain": [
       "Index(['birth_datetime', 'ethnicity_source_value', 'race_source_value',\n",
       "       'person_id', 'gender_source_value', 'address_1', 'zip', 'Smoking',\n",
       "       'Alcohol', 'STATE', 'Location_area', 'DM due to underlying condition',\n",
       "       'Drug or Chemical-Induced Diabetes Mellitus', 'Type-1', 'Type-2',\n",
       "       'Other specified diabetes mellitus',\n",
       "       'Diabetes Mellitus in Pregnancy, Childbirth, and the Puerperium',\n",
       "       'LIVER_MILD', 'LIVER', 'AIDS', 'MALIG', 'METAS', 'DIAB_CHRO',\n",
       "       'DEMENTIA', 'CEREBRO', 'HEMIP', 'CHF', 'RENAL', 'MYOC', 'PVD', 'COPD',\n",
       "       'PEPTIC', 'RHEUM', 'IP_30', 'IP_365', 'ED_30', 'ED_365', 'OP_30',\n",
       "       'OP_365', 'Surgery_30', 'Surgery_365'],\n",
       "      dtype='object')"
      ]
     },
     "execution_count": 139,
     "metadata": {},
     "output_type": "execute_result"
    }
   ],
   "source": [
    "person.columns"
   ]
  },
  {
   "cell_type": "code",
   "execution_count": 140,
   "metadata": {},
   "outputs": [
    {
     "name": "stdout",
     "output_type": "stream",
     "text": [
      "Connected to MySQL database\n",
      "MySQL connection closed\n"
     ]
    },
    {
     "name": "stderr",
     "output_type": "stream",
     "text": [
      "C:\\Users\\Pc\\AppData\\Local\\Temp\\ipykernel_9760\\4182301056.py:20: UserWarning: pandas only supports SQLAlchemy connectable (engine/connection) or database string URI or sqlite3 DBAPI2 connection. Other DBAPI2 objects are not tested. Please consider using SQLAlchemy.\n",
      "  df = pd.read_sql(query, connection)\n"
     ]
    }
   ],
   "source": [
    "procedure_occurence=\"\"\"select * from procedure_occurrence\n",
    "\"\"\"\n",
    "procedure_occurence=fetch_data_from_mysql( procedure_occurence)"
   ]
  },
  {
   "cell_type": "code",
   "execution_count": 141,
   "metadata": {},
   "outputs": [],
   "source": [
    "procedure_occurence.columns\n",
    "procedure_occurence[\"procedure_date\"]=pd.to_datetime(procedure_occurence[\"procedure_date\"])"
   ]
  },
  {
   "cell_type": "code",
   "execution_count": 142,
   "metadata": {},
   "outputs": [],
   "source": [
    "filtered_procedures=procedure_occurence[procedure_occurence[\"procedure_date\"]<=\"2024-11-27\"]"
   ]
  },
  {
   "cell_type": "code",
   "execution_count": 143,
   "metadata": {},
   "outputs": [],
   "source": [
    "CPT_codes=pd.read_excel(\"../mappings/All_CPT_codes.xlsx\",sheet_name=\"ALL 2024 CPT Codes\")"
   ]
  },
  {
   "cell_type": "code",
   "execution_count": 78,
   "metadata": {},
   "outputs": [
    {
     "data": {
      "text/plain": [
       "Index(['person_id', 'Encounter Type', 'procedure_date', 'Mapped Proc Code'], dtype='object')"
      ]
     },
     "execution_count": 78,
     "metadata": {},
     "output_type": "execute_result"
    }
   ],
   "source": [
    "filtered_procedures.columns"
   ]
  },
  {
   "cell_type": "code",
   "execution_count": 144,
   "metadata": {},
   "outputs": [
    {
     "data": {
      "text/plain": [
       "Mapped Proc Code\n",
       "         104\n",
       "45378     64\n",
       "64483     46\n",
       "43235     40\n",
       "43239     39\n",
       "27447     31\n",
       "64721     20\n",
       "45380     19\n",
       "45385     19\n",
       "27096     18\n",
       "27130     17\n",
       "26055     13\n",
       "22853     12\n",
       "20680     10\n",
       "23412     10\n",
       "Name: count, dtype: int64"
      ]
     },
     "execution_count": 144,
     "metadata": {},
     "output_type": "execute_result"
    }
   ],
   "source": [
    "filtered_procedures[\"Mapped Proc Code\"].value_counts()[:15]"
   ]
  },
  {
   "cell_type": "code",
   "execution_count": 146,
   "metadata": {},
   "outputs": [
    {
     "name": "stdout",
     "output_type": "stream",
     "text": [
      "No CPT or ICD column found in sheet: Insurance type\n",
      "No CPT or ICD column found in sheet: ED\n"
     ]
    }
   ],
   "source": [
    "import pandas as pd\n",
    "import numpy as np\n",
    "\n",
    "# Function for procedures filtering\n",
    "def procedures_filtering(table_column, column):\n",
    "    df = filtered_procedures[filtered_procedures[\"Mapped Proc Code\"].isin(table_column.unique())]\n",
    "    person[column] = np.where(person[\"person_id\"].isin(df[\"person_id\"]), 1, 0)\n",
    "\n",
    "# Function for conditions filtering\n",
    "def conditions_filtering(table_column, column):\n",
    "    df = conditions_patinet_level[conditions_patinet_level[\"condition_type_concept_id\"].isin(table_column.unique())]\n",
    "    person[column] = np.where(person[\"person_id\"].isin(df[\"person_id\"]), 1, 0)\n",
    "\n",
    "# Read the Excel file with all the sheets\n",
    "excel_file = \"..\\\\mappings\\\\Condition_codes.xlsx\"\n",
    "xls = pd.ExcelFile(excel_file)\n",
    "\n",
    "# Loop through each sheet in the Excel file\n",
    "for sheet_name in xls.sheet_names:\n",
    "    sheet = pd.read_excel(excel_file, sheet_name=sheet_name)\n",
    "    \n",
    "    # Check if the sheet has 'CPT' column\n",
    "    if 'CPT' in sheet.columns:\n",
    "        procedures_filtering(sheet['CPT'], sheet_name)\n",
    "    \n",
    "    # Check if the sheet has 'ICD' column\n",
    "    elif 'ICD' in sheet.columns:\n",
    "        conditions_filtering(sheet['ICD'], sheet_name)\n",
    "    else:\n",
    "        print(f\"No CPT or ICD column found in sheet: {sheet_name}\")\n"
   ]
  },
  {
   "cell_type": "code",
   "execution_count": 148,
   "metadata": {},
   "outputs": [
    {
     "data": {
      "text/plain": [
       "80"
      ]
     },
     "execution_count": 148,
     "metadata": {},
     "output_type": "execute_result"
    }
   ],
   "source": [
    "len(person.columns)"
   ]
  },
  {
   "cell_type": "code",
   "execution_count": 150,
   "metadata": {},
   "outputs": [],
   "source": [
    "CPT_codes=pd.read_excel(\"../mappings/All_CPT_codes.xlsx\",sheet_name=\"ALL 2024 CPT Codes\")"
   ]
  },
  {
   "cell_type": "code",
   "execution_count": 151,
   "metadata": {},
   "outputs": [
    {
     "name": "stdout",
     "output_type": "stream",
     "text": [
      "Abdominal aortic aneurysm repair 0 0\n",
      "Limb amputation 30 32\n",
      "Appendix surgery 3 4\n",
      "AV shunt for dialysis  5 6\n",
      "Bile duct, liver or pancreatic surgery 0 0\n",
      "Breast surgery 2 2\n",
      "Cardiac surgery 0 0\n",
      "Coronary bypass with chest & donor incisions 0 0\n",
      "Coronary bypass graft with chest incision 0 0\n",
      "Carotid endarterectomy 0 0\n",
      "Gallbladder surgery 2 4\n",
      "Colon surgery 0 0\n",
      "Craniotomy 0 0\n",
      "Cesarean section 0 0\n",
      "Spinal fusion 17 22\n",
      "Open reduction of fracture 13 18\n",
      "Gastric surgery 0 0\n",
      "Herniorrhaphy 1 1\n",
      "Hip prosthesis 21 22\n",
      "Heart transplant 0 0\n",
      "Abdominal hysterectomy 1 1\n",
      "Knee prosthesis 30 34\n",
      "Kidney transplant 0 0\n",
      "Laminectomy 6 6\n",
      "Liver transplant 0 0\n",
      "Neck surgery 0 0\n",
      "Kidney surgery 5 7\n",
      "Ovarian surgery 2 2\n",
      "Pacemaker surgery 1 2\n",
      "Prostate surgery 0 0\n",
      "Peripheral vascular bypass surgery 1 1\n",
      "Rectal surgery  0 0\n",
      "Small bowel surgery 0 0\n",
      "Spleen surgery 0 0\n",
      "Thoracic surgery  0 0\n",
      "Thyroid and/or parathyroid surgery 0 0\n",
      "Vaginal hysterectomy 0 0\n",
      "Ventricular shunt 0 0\n",
      "Exploratory laparotomy 5 9\n"
     ]
    }
   ],
   "source": [
    "# Loop through unique values in the 'Category' column of the CPT_codes table\n",
    "for i in CPT_codes['Category'].unique():\n",
    "    # Get codes for i from 'CPT Codes' column in CPT_codes table\n",
    "    codes = CPT_codes[CPT_codes['Category'] == i]['CPT Codes'].astype(str).unique()  # Convert to string\n",
    "    \n",
    "    # Filter the filtered_procedures table based on the retrieved codes\n",
    "    procs = filtered_procedures[filtered_procedures['Mapped Proc Code'].astype(str).isin(codes)]  # Convert to string\n",
    "    \n",
    "    # Get the unique list of patient IDs from the filtered procedures table\n",
    "    unique_patients = procs['person_id'].unique()\n",
    "    \n",
    "    # Ensure 'person_id' in the Patients_transformed table is the same data type (convert to string)\n",
    "    person['person_id'] = person['person_id'].astype(str)\n",
    "    \n",
    "    # Create a new column in Patients_transformed with the same name as i\n",
    "    # Set the value to 1 if the patient ID is in the unique_patients list, otherwise set it to 0\n",
    "    person[i] = person['person_id'].apply(lambda x: 1 if x in unique_patients else 0)\n",
    "    \n",
    "    print(i, len(unique_patients), len(procs))\n"
   ]
  },
  {
   "cell_type": "code",
   "execution_count": null,
   "metadata": {},
   "outputs": [],
   "source": [
    "person.to_excel(\"Data\\Output\\Patients_features.xlsx\")"
   ]
  },
  {
   "cell_type": "code",
   "execution_count": 153,
   "metadata": {},
   "outputs": [
    {
     "data": {
      "text/plain": [
       "45"
      ]
     },
     "execution_count": 153,
     "metadata": {},
     "output_type": "execute_result"
    }
   ],
   "source": [
    "constant_columns = [col for col in person.columns if person[col].nunique() == 1]\n",
    "num_constant_columns = len(constant_columns)\n",
    "num_constant_columns\n"
   ]
  }
 ],
 "metadata": {
  "kernelspec": {
   "display_name": "Python 3",
   "language": "python",
   "name": "python3"
  },
  "language_info": {
   "codemirror_mode": {
    "name": "ipython",
    "version": 3
   },
   "file_extension": ".py",
   "mimetype": "text/x-python",
   "name": "python",
   "nbconvert_exporter": "python",
   "pygments_lexer": "ipython3",
   "version": "3.12.2"
  }
 },
 "nbformat": 4,
 "nbformat_minor": 2
}
